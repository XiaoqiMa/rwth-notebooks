{
 "cells": [
  {
   "cell_type": "markdown",
   "metadata": {},
   "source": [
    "# Second home assignment Social Data Science"
   ]
  },
  {
   "cell_type": "raw",
   "metadata": {},
   "source": [
    "Submit your solution to L2P until Wednesday, January 16th.\n",
    "\n",
    "You can (and should!) submit solutions in teams of up to four members.\n",
    "Please denote all members of the team with their student id and full name in the notebook. Please submit only one solution per team!\n",
    "\n",
    "Cite ALL your sources for coding this home assignment. In case of plagiarism (copying solutions from other teams or from the internet) ALL team members will be expelled from the course without warning.\n"
   ]
  },
  {
   "cell_type": "markdown",
   "metadata": {},
   "source": [
    "**Team Members:**\n",
    "\n",
    "Xiaoqi Ma (383420) Shengjie Li (399867) Weibo Zhao (389655)"
   ]
  },
  {
   "cell_type": "markdown",
   "metadata": {},
   "source": [
    "## Mahalanobis matching\n",
    "Another popular alternative to propensity score matching is \"Mahalanobis matching\". This is a greedy matching method, where each point of one group is matched to its nearest neighbor according to the Mahalanobis distance, see https://docs.scipy.org/doc/scipy-0.14.0/reference/generated/scipy.spatial.distance.mahalanobis.html for a formal definition. \n",
    "\n"
   ]
  },
  {
   "cell_type": "markdown",
   "metadata": {},
   "source": [
    "### Data preparation:\n",
    "We apply Mahalanobis matching to the quality of government (QoG) data from the last home assignment. For this task, first load the QoG data into a pandas dataframe and select the columns \"cname\",\"wdi_lifexp\" (life expectancy),\"wdi_popden\"(population density),\"gle_cgdpc\" (GDP per capita), \"bti_ds\" (Democracy Status).\n",
    "\n",
    "Remove all countries with missing values. Then put all remaining countries into two groups:\n",
    "* Full democratic (bti_ds > 8.0)\n",
    "* Not full democratic (else)"
   ]
  },
  {
   "cell_type": "code",
   "execution_count": 1,
   "metadata": {},
   "outputs": [],
   "source": [
    "import numpy as np\n",
    "import pandas as pd\n",
    "from matplotlib import colors\n",
    "import matplotlib.pyplot as plt\n",
    "from sklearn import preprocessing\n",
    "from scipy.spatial.distance import mahalanobis\n",
    "\n",
    "%matplotlib inline"
   ]
  },
  {
   "cell_type": "code",
   "execution_count": 2,
   "metadata": {},
   "outputs": [],
   "source": [
    "url = 'https://www.qogdata.pol.gu.se/data/qog_bas_cs_jan18.csv'\n",
    "df = pd.read_csv(url)\n",
    "df = df[[\"cname\", \"wdi_lifexp\", \"wdi_popden\", \"gle_cgdpc\", \"bti_ds\"]]\n",
    "df = df.dropna(axis=0)\n",
    "df.reset_index(inplace=True) # reset index aftering removing missing values"
   ]
  },
  {
   "cell_type": "code",
   "execution_count": 3,
   "metadata": {
    "scrolled": true
   },
   "outputs": [
    {
     "data": {
      "text/html": [
       "<div>\n",
       "<style scoped>\n",
       "    .dataframe tbody tr th:only-of-type {\n",
       "        vertical-align: middle;\n",
       "    }\n",
       "\n",
       "    .dataframe tbody tr th {\n",
       "        vertical-align: top;\n",
       "    }\n",
       "\n",
       "    .dataframe thead th {\n",
       "        text-align: right;\n",
       "    }\n",
       "</style>\n",
       "<table border=\"1\" class=\"dataframe\">\n",
       "  <thead>\n",
       "    <tr style=\"text-align: right;\">\n",
       "      <th></th>\n",
       "      <th>index</th>\n",
       "      <th>cname</th>\n",
       "      <th>wdi_lifexp</th>\n",
       "      <th>wdi_popden</th>\n",
       "      <th>gle_cgdpc</th>\n",
       "      <th>bti_ds</th>\n",
       "    </tr>\n",
       "  </thead>\n",
       "  <tbody>\n",
       "    <tr>\n",
       "      <th>0</th>\n",
       "      <td>0</td>\n",
       "      <td>Afghanistan</td>\n",
       "      <td>62.902683</td>\n",
       "      <td>50.176178</td>\n",
       "      <td>1282.6400</td>\n",
       "      <td>3.016667</td>\n",
       "    </tr>\n",
       "    <tr>\n",
       "      <th>1</th>\n",
       "      <td>1</td>\n",
       "      <td>Albania</td>\n",
       "      <td>77.998390</td>\n",
       "      <td>105.441750</td>\n",
       "      <td>8516.7002</td>\n",
       "      <td>6.950000</td>\n",
       "    </tr>\n",
       "    <tr>\n",
       "      <th>2</th>\n",
       "      <td>2</td>\n",
       "      <td>Algeria</td>\n",
       "      <td>75.635025</td>\n",
       "      <td>16.422152</td>\n",
       "      <td>5402.1699</td>\n",
       "      <td>4.800000</td>\n",
       "    </tr>\n",
       "    <tr>\n",
       "      <th>3</th>\n",
       "      <td>4</td>\n",
       "      <td>Angola</td>\n",
       "      <td>60.806732</td>\n",
       "      <td>21.593380</td>\n",
       "      <td>3771.2000</td>\n",
       "      <td>4.250000</td>\n",
       "    </tr>\n",
       "    <tr>\n",
       "      <th>4</th>\n",
       "      <td>6</td>\n",
       "      <td>Azerbaijan</td>\n",
       "      <td>71.724754</td>\n",
       "      <td>115.348816</td>\n",
       "      <td>9793.3096</td>\n",
       "      <td>3.483333</td>\n",
       "    </tr>\n",
       "  </tbody>\n",
       "</table>\n",
       "</div>"
      ],
      "text/plain": [
       "   index        cname  wdi_lifexp  wdi_popden  gle_cgdpc    bti_ds\n",
       "0      0  Afghanistan   62.902683   50.176178  1282.6400  3.016667\n",
       "1      1      Albania   77.998390  105.441750  8516.7002  6.950000\n",
       "2      2      Algeria   75.635025   16.422152  5402.1699  4.800000\n",
       "3      4       Angola   60.806732   21.593380  3771.2000  4.250000\n",
       "4      6   Azerbaijan   71.724754  115.348816  9793.3096  3.483333"
      ]
     },
     "execution_count": 3,
     "metadata": {},
     "output_type": "execute_result"
    }
   ],
   "source": [
    "df.head()"
   ]
  },
  {
   "cell_type": "code",
   "execution_count": 4,
   "metadata": {},
   "outputs": [],
   "source": [
    "df_democratic = df[df['bti_ds'] > 8.0]\n",
    "df_not_democratic = df[df['bti_ds'] <= 8.0]"
   ]
  },
  {
   "cell_type": "markdown",
   "metadata": {},
   "source": [
    "### a) Compute the Mahalanobis distance matrix with respect to the attribute population density and gdp per capita.\n",
    "You can use all functions from numpy/scipy/scikit-learn for this!"
   ]
  },
  {
   "cell_type": "code",
   "execution_count": 5,
   "metadata": {},
   "outputs": [],
   "source": [
    "# population and gdp\n",
    "pop_gdp = df[['wdi_popden', 'gle_cgdpc']].values\n",
    "# calculate inversed covariance matrix\n",
    "VI = np.linalg.inv(np.cov(df['wdi_popden'].values, df['gle_cgdpc'].values))\n",
    "# init with zeros\n",
    "md = np.zeros((df.shape[0], df.shape[0]))\n",
    "for i in range(0, df.shape[0]):\n",
    "    for j in range(0, df.shape[0]):\n",
    "        # write distance for each element matrix\n",
    "        md[i][j] = mahalanobis(pop_gdp[i], pop_gdp[j], VI)\n",
    "\n",
    "# Mahalanobis distance matrix\n",
    "md_matrix = np.asmatrix(md)"
   ]
  },
  {
   "cell_type": "code",
   "execution_count": 6,
   "metadata": {},
   "outputs": [
    {
     "data": {
      "text/html": [
       "<div>\n",
       "<style scoped>\n",
       "    .dataframe tbody tr th:only-of-type {\n",
       "        vertical-align: middle;\n",
       "    }\n",
       "\n",
       "    .dataframe tbody tr th {\n",
       "        vertical-align: top;\n",
       "    }\n",
       "\n",
       "    .dataframe thead tr th {\n",
       "        text-align: left;\n",
       "    }\n",
       "\n",
       "    .dataframe thead tr:last-of-type th {\n",
       "        text-align: right;\n",
       "    }\n",
       "</style>\n",
       "<table border=\"1\" class=\"dataframe\">\n",
       "  <thead>\n",
       "    <tr>\n",
       "      <th>cname</th>\n",
       "      <th>Afghanistan</th>\n",
       "      <th>Albania</th>\n",
       "      <th>Algeria</th>\n",
       "      <th>Angola</th>\n",
       "      <th>Azerbaijan</th>\n",
       "      <th>Argentina</th>\n",
       "      <th>Bahrain</th>\n",
       "      <th>Bangladesh</th>\n",
       "      <th>Armenia</th>\n",
       "      <th>Bhutan</th>\n",
       "      <th>...</th>\n",
       "      <th>Ukraine</th>\n",
       "      <th>Macedonia</th>\n",
       "      <th>Egypt</th>\n",
       "      <th>Tanzania</th>\n",
       "      <th>Burkina Faso</th>\n",
       "      <th>Uruguay</th>\n",
       "      <th>Uzbekistan</th>\n",
       "      <th>Venezuela</th>\n",
       "      <th>Yemen</th>\n",
       "      <th>Zambia</th>\n",
       "    </tr>\n",
       "    <tr>\n",
       "      <th>cname</th>\n",
       "      <th></th>\n",
       "      <th></th>\n",
       "      <th></th>\n",
       "      <th></th>\n",
       "      <th></th>\n",
       "      <th></th>\n",
       "      <th></th>\n",
       "      <th></th>\n",
       "      <th></th>\n",
       "      <th></th>\n",
       "      <th></th>\n",
       "      <th></th>\n",
       "      <th></th>\n",
       "      <th></th>\n",
       "      <th></th>\n",
       "      <th></th>\n",
       "      <th></th>\n",
       "      <th></th>\n",
       "      <th></th>\n",
       "      <th></th>\n",
       "      <th></th>\n",
       "    </tr>\n",
       "  </thead>\n",
       "  <tbody>\n",
       "    <tr>\n",
       "      <th>Afghanistan</th>\n",
       "      <td>0.000000</td>\n",
       "      <td>0.577240</td>\n",
       "      <td>0.361040</td>\n",
       "      <td>0.223888</td>\n",
       "      <td>0.679061</td>\n",
       "      <td>1.162822</td>\n",
       "      <td>2.543034</td>\n",
       "      <td>1.737335</td>\n",
       "      <td>0.409169</td>\n",
       "      <td>0.377909</td>\n",
       "      <td>...</td>\n",
       "      <td>0.653730</td>\n",
       "      <td>0.675497</td>\n",
       "      <td>0.341901</td>\n",
       "      <td>0.014085</td>\n",
       "      <td>0.029937</td>\n",
       "      <td>0.970537</td>\n",
       "      <td>0.494382</td>\n",
       "      <td>0.772557</td>\n",
       "      <td>0.073815</td>\n",
       "      <td>0.078496</td>\n",
       "    </tr>\n",
       "    <tr>\n",
       "      <th>Albania</th>\n",
       "      <td>0.577240</td>\n",
       "      <td>0.000000</td>\n",
       "      <td>0.248022</td>\n",
       "      <td>0.370988</td>\n",
       "      <td>0.101821</td>\n",
       "      <td>0.603191</td>\n",
       "      <td>2.317653</td>\n",
       "      <td>1.925810</td>\n",
       "      <td>0.169446</td>\n",
       "      <td>0.230000</td>\n",
       "      <td>...</td>\n",
       "      <td>0.089246</td>\n",
       "      <td>0.107035</td>\n",
       "      <td>0.235970</td>\n",
       "      <td>0.569015</td>\n",
       "      <td>0.597215</td>\n",
       "      <td>0.415563</td>\n",
       "      <td>0.091370</td>\n",
       "      <td>0.223550</td>\n",
       "      <td>0.504300</td>\n",
       "      <td>0.518840</td>\n",
       "    </tr>\n",
       "    <tr>\n",
       "      <th>Algeria</th>\n",
       "      <td>0.361040</td>\n",
       "      <td>0.248022</td>\n",
       "      <td>0.000000</td>\n",
       "      <td>0.137848</td>\n",
       "      <td>0.344323</td>\n",
       "      <td>0.803908</td>\n",
       "      <td>2.481678</td>\n",
       "      <td>1.920913</td>\n",
       "      <td>0.128535</td>\n",
       "      <td>0.018524</td>\n",
       "      <td>...</td>\n",
       "      <td>0.307174</td>\n",
       "      <td>0.329412</td>\n",
       "      <td>0.108737</td>\n",
       "      <td>0.356235</td>\n",
       "      <td>0.386237</td>\n",
       "      <td>0.611693</td>\n",
       "      <td>0.156655</td>\n",
       "      <td>0.415164</td>\n",
       "      <td>0.287925</td>\n",
       "      <td>0.291055</td>\n",
       "    </tr>\n",
       "    <tr>\n",
       "      <th>Angola</th>\n",
       "      <td>0.223888</td>\n",
       "      <td>0.370988</td>\n",
       "      <td>0.137848</td>\n",
       "      <td>0.000000</td>\n",
       "      <td>0.471425</td>\n",
       "      <td>0.941600</td>\n",
       "      <td>2.509833</td>\n",
       "      <td>1.854140</td>\n",
       "      <td>0.214652</td>\n",
       "      <td>0.155337</td>\n",
       "      <td>...</td>\n",
       "      <td>0.439560</td>\n",
       "      <td>0.461717</td>\n",
       "      <td>0.153128</td>\n",
       "      <td>0.219893</td>\n",
       "      <td>0.249988</td>\n",
       "      <td>0.749338</td>\n",
       "      <td>0.282317</td>\n",
       "      <td>0.552324</td>\n",
       "      <td>0.151684</td>\n",
       "      <td>0.153329</td>\n",
       "    </tr>\n",
       "    <tr>\n",
       "      <th>Azerbaijan</th>\n",
       "      <td>0.679061</td>\n",
       "      <td>0.101821</td>\n",
       "      <td>0.344323</td>\n",
       "      <td>0.471425</td>\n",
       "      <td>0.000000</td>\n",
       "      <td>0.508668</td>\n",
       "      <td>2.290506</td>\n",
       "      <td>1.974563</td>\n",
       "      <td>0.270886</td>\n",
       "      <td>0.325920</td>\n",
       "      <td>...</td>\n",
       "      <td>0.056133</td>\n",
       "      <td>0.046405</td>\n",
       "      <td>0.337669</td>\n",
       "      <td>0.670815</td>\n",
       "      <td>0.698966</td>\n",
       "      <td>0.325920</td>\n",
       "      <td>0.189386</td>\n",
       "      <td>0.150699</td>\n",
       "      <td>0.606106</td>\n",
       "      <td>0.620288</td>\n",
       "    </tr>\n",
       "  </tbody>\n",
       "</table>\n",
       "<p>5 rows × 125 columns</p>\n",
       "</div>"
      ],
      "text/plain": [
       "cname       Afghanistan   Albania   Algeria    Angola Azerbaijan Argentina  \\\n",
       "cname                                                                        \n",
       "Afghanistan    0.000000  0.577240  0.361040  0.223888   0.679061  1.162822   \n",
       "Albania        0.577240  0.000000  0.248022  0.370988   0.101821  0.603191   \n",
       "Algeria        0.361040  0.248022  0.000000  0.137848   0.344323  0.803908   \n",
       "Angola         0.223888  0.370988  0.137848  0.000000   0.471425  0.941600   \n",
       "Azerbaijan     0.679061  0.101821  0.344323  0.471425   0.000000  0.508668   \n",
       "\n",
       "cname         Bahrain Bangladesh   Armenia    Bhutan    ...      Ukraine  \\\n",
       "cname                                                   ...                \n",
       "Afghanistan  2.543034   1.737335  0.409169  0.377909    ...     0.653730   \n",
       "Albania      2.317653   1.925810  0.169446  0.230000    ...     0.089246   \n",
       "Algeria      2.481678   1.920913  0.128535  0.018524    ...     0.307174   \n",
       "Angola       2.509833   1.854140  0.214652  0.155337    ...     0.439560   \n",
       "Azerbaijan   2.290506   1.974563  0.270886  0.325920    ...     0.056133   \n",
       "\n",
       "cname       Macedonia     Egypt  Tanzania Burkina Faso   Uruguay Uzbekistan  \\\n",
       "cname                                                                         \n",
       "Afghanistan  0.675497  0.341901  0.014085     0.029937  0.970537   0.494382   \n",
       "Albania      0.107035  0.235970  0.569015     0.597215  0.415563   0.091370   \n",
       "Algeria      0.329412  0.108737  0.356235     0.386237  0.611693   0.156655   \n",
       "Angola       0.461717  0.153128  0.219893     0.249988  0.749338   0.282317   \n",
       "Azerbaijan   0.046405  0.337669  0.670815     0.698966  0.325920   0.189386   \n",
       "\n",
       "cname       Venezuela     Yemen    Zambia  \n",
       "cname                                      \n",
       "Afghanistan  0.772557  0.073815  0.078496  \n",
       "Albania      0.223550  0.504300  0.518840  \n",
       "Algeria      0.415164  0.287925  0.291055  \n",
       "Angola       0.552324  0.151684  0.153329  \n",
       "Azerbaijan   0.150699  0.606106  0.620288  \n",
       "\n",
       "[5 rows x 125 columns]"
      ]
     },
     "execution_count": 6,
     "metadata": {},
     "output_type": "execute_result"
    }
   ],
   "source": [
    "# show mahalonobis distances matrix\n",
    "df_md_matrix = pd.DataFrame(md_matrix, index=[df['cname']], columns=[df['cname']])\n",
    "df_md_matrix.head()"
   ]
  },
  {
   "cell_type": "markdown",
   "metadata": {},
   "source": [
    "### b) Matching:\n",
    "Investigate if there is a statistical association between \"Full Democratic\" and \"Not Full Democratic\" on one hand and life expectancy on the other hand.\n",
    "For that purpose, compute a full greedy matching according to the Mahalanobis distance w.r.t population density and gdp per capita. Determine for yourself a reasonable threshold when no a match should be discarded (i.e., there is no suitable match for a country in the other group). Compare the life expectancy in the two groups.\n",
    "\n",
    "Interpret and critically discuss the trustworthiness of the results."
   ]
  },
  {
   "cell_type": "code",
   "execution_count": 7,
   "metadata": {},
   "outputs": [],
   "source": [
    "def matching(df, distance_matrix, threshold):\n",
    "    # matching_dict contains index of df_democratic as key\n",
    "    # and has its nearest index of df_not_democratic as value\n",
    "    matching_dict = {}\n",
    "    distances = []\n",
    "    df_democratic = df[df['bti_ds'] > 8.0]\n",
    "    df_not_democratic = df[df['bti_ds'] <= 8.0]\n",
    "    index_democ = df_democratic.index\n",
    "    index_not_democ = df_not_democratic.index\n",
    "\n",
    "    md_temp = distance_matrix.copy()\n",
    "    for i in index_democ:\n",
    "        match = -1\n",
    "        min_d = threshold  # first set threshold to large, try to match everything\n",
    "        for j in index_not_democ:\n",
    "            if((md_temp[i][j] < min_d)):\n",
    "                min_d = md_temp[i][j]\n",
    "                match = j\n",
    "\n",
    "        if(match != -1):\n",
    "            distances.append(min_d)\n",
    "            for k in index_democ:\n",
    "                md_temp[k][match] = np.inf  # to avoid get matched again\n",
    "            matching_dict[i] = match\n",
    "    country_df = pd.DataFrame([[df['cname'][i], df['cname'][matching_dict[i]]] for i in matching_dict.keys()],\n",
    "                              columns=['Full_democratic', 'Not_Full_democratic'])\n",
    "    distance_df = pd.DataFrame(distances, columns=['Mahalanobis distance'])\n",
    "    lifexp_df = pd.DataFrame([[df['wdi_lifexp'][i], df['wdi_lifexp'][matching_dict[i]]] for i in matching_dict.keys()],\n",
    "                             columns=['democ_lifexp', 'not_democ_lifexp'])\n",
    "\n",
    "    # combine results\n",
    "    matching_df = country_df.join(distance_df, how='inner')\n",
    "    matching_df = matching_df.join(lifexp_df, how='inner')\n",
    "    return matching_df"
   ]
  },
  {
   "cell_type": "code",
   "execution_count": 8,
   "metadata": {},
   "outputs": [
    {
     "data": {
      "text/html": [
       "<div>\n",
       "<style scoped>\n",
       "    .dataframe tbody tr th:only-of-type {\n",
       "        vertical-align: middle;\n",
       "    }\n",
       "\n",
       "    .dataframe tbody tr th {\n",
       "        vertical-align: top;\n",
       "    }\n",
       "\n",
       "    .dataframe thead th {\n",
       "        text-align: right;\n",
       "    }\n",
       "</style>\n",
       "<table border=\"1\" class=\"dataframe\">\n",
       "  <thead>\n",
       "    <tr style=\"text-align: right;\">\n",
       "      <th></th>\n",
       "      <th>Full_democratic</th>\n",
       "      <th>Not_Full_democratic</th>\n",
       "      <th>Mahalanobis distance</th>\n",
       "      <th>democ_lifexp</th>\n",
       "      <th>not_democ_lifexp</th>\n",
       "    </tr>\n",
       "  </thead>\n",
       "  <tbody>\n",
       "    <tr>\n",
       "      <th>0</th>\n",
       "      <td>Botswana</td>\n",
       "      <td>Turkmenistan</td>\n",
       "      <td>0.034920</td>\n",
       "      <td>64.694389</td>\n",
       "      <td>67.490685</td>\n",
       "    </tr>\n",
       "    <tr>\n",
       "      <th>1</th>\n",
       "      <td>Brazil</td>\n",
       "      <td>Peru</td>\n",
       "      <td>0.048601</td>\n",
       "      <td>74.958244</td>\n",
       "      <td>74.485367</td>\n",
       "    </tr>\n",
       "    <tr>\n",
       "      <th>2</th>\n",
       "      <td>Bulgaria</td>\n",
       "      <td>Mexico</td>\n",
       "      <td>0.028597</td>\n",
       "      <td>74.465851</td>\n",
       "      <td>76.699173</td>\n",
       "    </tr>\n",
       "    <tr>\n",
       "      <th>3</th>\n",
       "      <td>Chile</td>\n",
       "      <td>Argentina</td>\n",
       "      <td>0.032559</td>\n",
       "      <td>78.964485</td>\n",
       "      <td>76.134003</td>\n",
       "    </tr>\n",
       "    <tr>\n",
       "      <th>4</th>\n",
       "      <td>Costa Rica</td>\n",
       "      <td>Macedonia</td>\n",
       "      <td>0.021832</td>\n",
       "      <td>79.416855</td>\n",
       "      <td>75.358002</td>\n",
       "    </tr>\n",
       "    <tr>\n",
       "      <th>5</th>\n",
       "      <td>Croatia</td>\n",
       "      <td>Belarus</td>\n",
       "      <td>0.041238</td>\n",
       "      <td>77.478050</td>\n",
       "      <td>72.970734</td>\n",
       "    </tr>\n",
       "    <tr>\n",
       "      <th>6</th>\n",
       "      <td>Czech Republic</td>\n",
       "      <td>Saudi Arabia</td>\n",
       "      <td>0.253241</td>\n",
       "      <td>78.824387</td>\n",
       "      <td>74.397392</td>\n",
       "    </tr>\n",
       "    <tr>\n",
       "      <th>7</th>\n",
       "      <td>Estonia</td>\n",
       "      <td>Russia</td>\n",
       "      <td>0.056770</td>\n",
       "      <td>77.034149</td>\n",
       "      <td>70.743660</td>\n",
       "    </tr>\n",
       "    <tr>\n",
       "      <th>8</th>\n",
       "      <td>Jamaica</td>\n",
       "      <td>Vietnam</td>\n",
       "      <td>0.069683</td>\n",
       "      <td>75.658539</td>\n",
       "      <td>75.695290</td>\n",
       "    </tr>\n",
       "    <tr>\n",
       "      <th>9</th>\n",
       "      <td>Korea, South</td>\n",
       "      <td>Oman</td>\n",
       "      <td>0.787469</td>\n",
       "      <td>82.155853</td>\n",
       "      <td>76.894562</td>\n",
       "    </tr>\n",
       "    <tr>\n",
       "      <th>10</th>\n",
       "      <td>Latvia</td>\n",
       "      <td>Zimbabwe</td>\n",
       "      <td>0.053508</td>\n",
       "      <td>74.124390</td>\n",
       "      <td>59.244316</td>\n",
       "    </tr>\n",
       "    <tr>\n",
       "      <th>11</th>\n",
       "      <td>Lithuania</td>\n",
       "      <td>Hungary</td>\n",
       "      <td>0.092993</td>\n",
       "      <td>74.517075</td>\n",
       "      <td>75.763412</td>\n",
       "    </tr>\n",
       "    <tr>\n",
       "      <th>12</th>\n",
       "      <td>Mauritius</td>\n",
       "      <td>Lebanon</td>\n",
       "      <td>0.363301</td>\n",
       "      <td>74.194389</td>\n",
       "      <td>79.326271</td>\n",
       "    </tr>\n",
       "    <tr>\n",
       "      <th>13</th>\n",
       "      <td>Poland</td>\n",
       "      <td>United Arab Emirates</td>\n",
       "      <td>0.040631</td>\n",
       "      <td>77.602440</td>\n",
       "      <td>77.329369</td>\n",
       "    </tr>\n",
       "    <tr>\n",
       "      <th>14</th>\n",
       "      <td>Romania</td>\n",
       "      <td>Montenegro</td>\n",
       "      <td>0.059439</td>\n",
       "      <td>74.960976</td>\n",
       "      <td>76.638855</td>\n",
       "    </tr>\n",
       "    <tr>\n",
       "      <th>15</th>\n",
       "      <td>Slovakia</td>\n",
       "      <td>Turkey</td>\n",
       "      <td>0.398061</td>\n",
       "      <td>76.812195</td>\n",
       "      <td>75.152145</td>\n",
       "    </tr>\n",
       "    <tr>\n",
       "      <th>16</th>\n",
       "      <td>Slovenia</td>\n",
       "      <td>Panama</td>\n",
       "      <td>0.750682</td>\n",
       "      <td>81.078049</td>\n",
       "      <td>77.625443</td>\n",
       "    </tr>\n",
       "    <tr>\n",
       "      <th>17</th>\n",
       "      <td>Uruguay</td>\n",
       "      <td>Iran</td>\n",
       "      <td>0.040867</td>\n",
       "      <td>76.982094</td>\n",
       "      <td>75.478195</td>\n",
       "    </tr>\n",
       "  </tbody>\n",
       "</table>\n",
       "</div>"
      ],
      "text/plain": [
       "   Full_democratic   Not_Full_democratic  Mahalanobis distance  democ_lifexp  \\\n",
       "0         Botswana          Turkmenistan              0.034920     64.694389   \n",
       "1           Brazil                  Peru              0.048601     74.958244   \n",
       "2         Bulgaria                Mexico              0.028597     74.465851   \n",
       "3            Chile             Argentina              0.032559     78.964485   \n",
       "4       Costa Rica             Macedonia              0.021832     79.416855   \n",
       "5          Croatia               Belarus              0.041238     77.478050   \n",
       "6   Czech Republic          Saudi Arabia              0.253241     78.824387   \n",
       "7          Estonia                Russia              0.056770     77.034149   \n",
       "8          Jamaica               Vietnam              0.069683     75.658539   \n",
       "9     Korea, South                  Oman              0.787469     82.155853   \n",
       "10          Latvia              Zimbabwe              0.053508     74.124390   \n",
       "11       Lithuania               Hungary              0.092993     74.517075   \n",
       "12       Mauritius               Lebanon              0.363301     74.194389   \n",
       "13          Poland  United Arab Emirates              0.040631     77.602440   \n",
       "14         Romania            Montenegro              0.059439     74.960976   \n",
       "15        Slovakia                Turkey              0.398061     76.812195   \n",
       "16        Slovenia                Panama              0.750682     81.078049   \n",
       "17         Uruguay                  Iran              0.040867     76.982094   \n",
       "\n",
       "    not_democ_lifexp  \n",
       "0          67.490685  \n",
       "1          74.485367  \n",
       "2          76.699173  \n",
       "3          76.134003  \n",
       "4          75.358002  \n",
       "5          72.970734  \n",
       "6          74.397392  \n",
       "7          70.743660  \n",
       "8          75.695290  \n",
       "9          76.894562  \n",
       "10         59.244316  \n",
       "11         75.763412  \n",
       "12         79.326271  \n",
       "13         77.329369  \n",
       "14         76.638855  \n",
       "15         75.152145  \n",
       "16         77.625443  \n",
       "17         75.478195  "
      ]
     },
     "execution_count": 8,
     "metadata": {},
     "output_type": "execute_result"
    }
   ],
   "source": [
    "# show relation between full democratic/not full democratic countries\n",
    "# show relation between life expectancy on full democratic/not full democratic countries\n",
    "first_match = matching(df, md, 10000)\n",
    "first_match"
   ]
  },
  {
   "cell_type": "code",
   "execution_count": 9,
   "metadata": {},
   "outputs": [
    {
     "name": "stdout",
     "output_type": "stream",
     "text": [
      "democratic countries have 66.67% cases longer life expectency\n"
     ]
    }
   ],
   "source": [
    "# percentage for democratic has longer life expectency than not full democratic\n",
    "percentage = sum(first_match['democ_lifexp'] >\n",
    "                 first_match['not_democ_lifexp']) / len(first_match) * 100\n",
    "print('democratic countries have {0:.2f}% cases longer life expectency'.format(\n",
    "    percentage))"
   ]
  },
  {
   "cell_type": "markdown",
   "metadata": {},
   "source": [
    "<font color='blue'>\n",
    "First we set a high distance threshold, which means we use greedy algorithm to find a match for every full democratic country. We found out that the Mahalanobis distance between every match is small, the results seems reasonalbe. The results also show that democratic countries have 2/3 cases longer life expectency. Then we try to use lower distance threshold to further improve the match results. "
   ]
  },
  {
   "cell_type": "code",
   "execution_count": 10,
   "metadata": {
    "scrolled": false
   },
   "outputs": [
    {
     "data": {
      "text/html": [
       "<div>\n",
       "<style scoped>\n",
       "    .dataframe tbody tr th:only-of-type {\n",
       "        vertical-align: middle;\n",
       "    }\n",
       "\n",
       "    .dataframe tbody tr th {\n",
       "        vertical-align: top;\n",
       "    }\n",
       "\n",
       "    .dataframe thead th {\n",
       "        text-align: right;\n",
       "    }\n",
       "</style>\n",
       "<table border=\"1\" class=\"dataframe\">\n",
       "  <thead>\n",
       "    <tr style=\"text-align: right;\">\n",
       "      <th></th>\n",
       "      <th>Full_democratic</th>\n",
       "      <th>Not_Full_democratic</th>\n",
       "      <th>Mahalanobis distance</th>\n",
       "      <th>democ_lifexp</th>\n",
       "      <th>not_democ_lifexp</th>\n",
       "    </tr>\n",
       "  </thead>\n",
       "  <tbody>\n",
       "    <tr>\n",
       "      <th>0</th>\n",
       "      <td>Botswana</td>\n",
       "      <td>Turkmenistan</td>\n",
       "      <td>0.034920</td>\n",
       "      <td>64.694389</td>\n",
       "      <td>67.490685</td>\n",
       "    </tr>\n",
       "    <tr>\n",
       "      <th>1</th>\n",
       "      <td>Brazil</td>\n",
       "      <td>Peru</td>\n",
       "      <td>0.048601</td>\n",
       "      <td>74.958244</td>\n",
       "      <td>74.485367</td>\n",
       "    </tr>\n",
       "    <tr>\n",
       "      <th>2</th>\n",
       "      <td>Bulgaria</td>\n",
       "      <td>Mexico</td>\n",
       "      <td>0.028597</td>\n",
       "      <td>74.465851</td>\n",
       "      <td>76.699173</td>\n",
       "    </tr>\n",
       "    <tr>\n",
       "      <th>3</th>\n",
       "      <td>Chile</td>\n",
       "      <td>Argentina</td>\n",
       "      <td>0.032559</td>\n",
       "      <td>78.964485</td>\n",
       "      <td>76.134003</td>\n",
       "    </tr>\n",
       "    <tr>\n",
       "      <th>4</th>\n",
       "      <td>Costa Rica</td>\n",
       "      <td>Macedonia</td>\n",
       "      <td>0.021832</td>\n",
       "      <td>79.416855</td>\n",
       "      <td>75.358002</td>\n",
       "    </tr>\n",
       "    <tr>\n",
       "      <th>5</th>\n",
       "      <td>Croatia</td>\n",
       "      <td>Belarus</td>\n",
       "      <td>0.041238</td>\n",
       "      <td>77.478050</td>\n",
       "      <td>72.970734</td>\n",
       "    </tr>\n",
       "    <tr>\n",
       "      <th>6</th>\n",
       "      <td>Estonia</td>\n",
       "      <td>Russia</td>\n",
       "      <td>0.056770</td>\n",
       "      <td>77.034149</td>\n",
       "      <td>70.743660</td>\n",
       "    </tr>\n",
       "    <tr>\n",
       "      <th>7</th>\n",
       "      <td>Jamaica</td>\n",
       "      <td>Vietnam</td>\n",
       "      <td>0.069683</td>\n",
       "      <td>75.658539</td>\n",
       "      <td>75.695290</td>\n",
       "    </tr>\n",
       "    <tr>\n",
       "      <th>8</th>\n",
       "      <td>Latvia</td>\n",
       "      <td>Zimbabwe</td>\n",
       "      <td>0.053508</td>\n",
       "      <td>74.124390</td>\n",
       "      <td>59.244316</td>\n",
       "    </tr>\n",
       "    <tr>\n",
       "      <th>9</th>\n",
       "      <td>Lithuania</td>\n",
       "      <td>Hungary</td>\n",
       "      <td>0.092993</td>\n",
       "      <td>74.517075</td>\n",
       "      <td>75.763412</td>\n",
       "    </tr>\n",
       "    <tr>\n",
       "      <th>10</th>\n",
       "      <td>Poland</td>\n",
       "      <td>United Arab Emirates</td>\n",
       "      <td>0.040631</td>\n",
       "      <td>77.602440</td>\n",
       "      <td>77.329369</td>\n",
       "    </tr>\n",
       "    <tr>\n",
       "      <th>11</th>\n",
       "      <td>Romania</td>\n",
       "      <td>Montenegro</td>\n",
       "      <td>0.059439</td>\n",
       "      <td>74.960976</td>\n",
       "      <td>76.638855</td>\n",
       "    </tr>\n",
       "    <tr>\n",
       "      <th>12</th>\n",
       "      <td>Uruguay</td>\n",
       "      <td>Iran</td>\n",
       "      <td>0.040867</td>\n",
       "      <td>76.982094</td>\n",
       "      <td>75.478195</td>\n",
       "    </tr>\n",
       "  </tbody>\n",
       "</table>\n",
       "</div>"
      ],
      "text/plain": [
       "   Full_democratic   Not_Full_democratic  Mahalanobis distance  democ_lifexp  \\\n",
       "0         Botswana          Turkmenistan              0.034920     64.694389   \n",
       "1           Brazil                  Peru              0.048601     74.958244   \n",
       "2         Bulgaria                Mexico              0.028597     74.465851   \n",
       "3            Chile             Argentina              0.032559     78.964485   \n",
       "4       Costa Rica             Macedonia              0.021832     79.416855   \n",
       "5          Croatia               Belarus              0.041238     77.478050   \n",
       "6          Estonia                Russia              0.056770     77.034149   \n",
       "7          Jamaica               Vietnam              0.069683     75.658539   \n",
       "8           Latvia              Zimbabwe              0.053508     74.124390   \n",
       "9        Lithuania               Hungary              0.092993     74.517075   \n",
       "10          Poland  United Arab Emirates              0.040631     77.602440   \n",
       "11         Romania            Montenegro              0.059439     74.960976   \n",
       "12         Uruguay                  Iran              0.040867     76.982094   \n",
       "\n",
       "    not_democ_lifexp  \n",
       "0          67.490685  \n",
       "1          74.485367  \n",
       "2          76.699173  \n",
       "3          76.134003  \n",
       "4          75.358002  \n",
       "5          72.970734  \n",
       "6          70.743660  \n",
       "7          75.695290  \n",
       "8          59.244316  \n",
       "9          75.763412  \n",
       "10         77.329369  \n",
       "11         76.638855  \n",
       "12         75.478195  "
      ]
     },
     "execution_count": 10,
     "metadata": {},
     "output_type": "execute_result"
    }
   ],
   "source": [
    "second_match = matching(df, md, 0.1)  # set distance threshold to 0.1\n",
    "second_match"
   ]
  },
  {
   "cell_type": "code",
   "execution_count": 11,
   "metadata": {},
   "outputs": [
    {
     "name": "stdout",
     "output_type": "stream",
     "text": [
      "democratic countries have 61.54% cases longer life expectency\n"
     ]
    }
   ],
   "source": [
    "# percentage for democratic has longer life expectency than not full democratic\n",
    "percentage = sum(second_match['democ_lifexp'] >\n",
    "                 second_match['not_democ_lifexp']) / len(second_match) * 100\n",
    "print('democratic countries have {0:.2f}% cases longer life expectency'.format(\n",
    "    percentage))"
   ]
  },
  {
   "cell_type": "markdown",
   "metadata": {},
   "source": [
    "<font color='blue'>\n",
    "Now we adopt distance threshold at 0.1. In comparison to previous result, we found out that some matches disappered, like 'South Korean -- Oman' by constraining on the distance threshold. And we still observe that democratic countries have longer life expectency. And the results seem trustful and reasonable. But in fact, the sample size is very small, we cannot draw further conclusions. \n"
   ]
  },
  {
   "cell_type": "markdown",
   "metadata": {},
   "source": [
    "# Schelling‘s Model of Segregation"
   ]
  },
  {
   "cell_type": "markdown",
   "metadata": {},
   "source": [
    "### a) Create grid\n",
    "Wbrite a function create_grid (shape, share_red, share_blue) that returns a numpy array of the given shape (rows, columns). Cells with a red agent should be marked with the value 1, cells with a blue agent with value 2, empty cells with a 0.\n",
    "\n",
    "Naturally, share_red + share_blue < 1"
   ]
  },
  {
   "cell_type": "markdown",
   "metadata": {},
   "source": [
    "Refrence:\n",
    "[Schelling's Model of Segregation](http://nifty.stanford.edu/2014/mccown-schelling-model-segregation/)"
   ]
  },
  {
   "cell_type": "code",
   "execution_count": 12,
   "metadata": {},
   "outputs": [],
   "source": [
    "def create_grid(shape, share_red, share_blue):\n",
    "    num = shape[0] * shape[1]\n",
    "    red_num = int(share_red * num)\n",
    "    blue_num = int(share_blue * num)\n",
    "    empty_num = num - red_num - blue_num\n",
    "    red = [1] * red_num\n",
    "    blue = [2] * blue_num\n",
    "    empty = [0] * empty_num\n",
    "    \n",
    "    arr = np.array(red + blue + empty)\n",
    "    np.random.shuffle(arr) # shuffle the array, then reshape\n",
    "    return arr.reshape(shape[0], shape[1])"
   ]
  },
  {
   "cell_type": "code",
   "execution_count": 13,
   "metadata": {},
   "outputs": [
    {
     "data": {
      "text/plain": [
       "array([[1, 2, 1, 2, 1, 0, 2, 0, 2, 2],\n",
       "       [2, 1, 1, 0, 2, 2, 1, 2, 2, 2],\n",
       "       [1, 1, 2, 0, 1, 1, 1, 1, 1, 2],\n",
       "       [1, 2, 0, 2, 2, 1, 2, 1, 2, 0],\n",
       "       [1, 1, 0, 0, 2, 2, 1, 0, 1, 0],\n",
       "       [0, 2, 0, 2, 2, 2, 1, 2, 2, 1],\n",
       "       [0, 1, 1, 2, 1, 1, 2, 1, 2, 2],\n",
       "       [2, 1, 2, 2, 1, 1, 2, 2, 0, 0],\n",
       "       [1, 1, 0, 1, 2, 0, 0, 0, 2, 2],\n",
       "       [1, 1, 1, 1, 1, 2, 0, 1, 1, 2]])"
      ]
     },
     "execution_count": 13,
     "metadata": {},
     "output_type": "execute_result"
    }
   ],
   "source": [
    "# example\n",
    "np.random.seed(2019) # make result stable\n",
    "create_grid((10, 10), 0.4, 0.4)"
   ]
  },
  {
   "cell_type": "markdown",
   "metadata": {
    "scrolled": true
   },
   "source": [
    "### b) Visualization\n",
    "\n",
    "Write a function visualize(grid) that take a numpy array with these properties and plots it. We recommend to use matplotlib for this"
   ]
  },
  {
   "cell_type": "code",
   "execution_count": 14,
   "metadata": {},
   "outputs": [],
   "source": [
    "# Ref: https://stackoverflow.com/questions/43971138/python-plotting-colored-grid-based-on-values\n",
    "def visualize(grid):\n",
    "    # check whether there are empty agents, empty agents default with color white\n",
    "    if grid.size == np.count_nonzero(grid):  \n",
    "        cmap = colors.ListedColormap([ 'red', 'blue'])\n",
    "    else:\n",
    "        cmap = colors.ListedColormap(['white', 'red', 'blue'])\n",
    "    \n",
    "    fix, ax = plt.subplots()\n",
    "    ax.imshow(grid, cmap=cmap)\n",
    "\n",
    "#     ax.grid(which='major', axis='both', linestyle='-', color='k', linewidth=2)\n",
    "    return plt.show()"
   ]
  },
  {
   "cell_type": "code",
   "execution_count": 15,
   "metadata": {},
   "outputs": [
    {
     "data": {
      "image/png": "[encoded data removed]",
      "text/plain": [
       "<Figure size 432x288 with 1 Axes>"
      ]
     },
     "metadata": {
      "needs_background": "light"
     },
     "output_type": "display_data"
    }
   ],
   "source": [
    "# example\n",
    "np.random.seed(2019)\n",
    "visualize(create_grid((10,10), 0.4, 0.4))"
   ]
  },
  {
   "cell_type": "markdown",
   "metadata": {},
   "source": [
    "### c) Simulation Step\n",
    "\n",
    "Simulate a single step (potential movement of a single randomly picked agent) of the Schelling model with a function simulate(grid, preferred_proportion)"
   ]
  },
  {
   "cell_type": "code",
   "execution_count": 16,
   "metadata": {},
   "outputs": [],
   "source": [
    "def simulate(grid, preferred_proportion):\n",
    "    satis_score = 0\n",
    "    unsatisfied = []\n",
    "    for x in range(grid.shape[0]):\n",
    "        for y in range(grid.shape[1]):\n",
    "            coord = (x, y)\n",
    "            if grid[x][y] != 0:  # only consider those agents that are not empty\n",
    "                is_unsatisfied, coord = find_unsatisfied(grid, coord, preferred_proportion)\n",
    "                if is_unsatisfied == True:\n",
    "                    # record the coordinates of those unsatisfied agents\n",
    "                    unsatisfied.append(coord)\n",
    "    \n",
    "    # calculate satisfication score (only consider non-empty agents)\n",
    "    satis_score = 1 - len(unsatisfied)/np.count_nonzero(grid)\n",
    "    values = [grid[v[0]][v[1]] for v in unsatisfied]\n",
    "    \n",
    "    # shuffle the position of those unsatisfied agents\n",
    "    np.random.shuffle(values)\n",
    "    new_grid = grid.copy()\n",
    "    for i, coord in enumerate(unsatisfied):\n",
    "        new_grid[coord[0]][coord[1]] = values[i]\n",
    "\n",
    "    return satis_score, new_grid"
   ]
  },
  {
   "cell_type": "code",
   "execution_count": 17,
   "metadata": {},
   "outputs": [],
   "source": [
    "# check whether a agent is satisfied or not\n",
    "def find_unsatisfied(grid, coord, proportion):\n",
    "    neighborMatrix = {(-1, -1), (-1, 0), (-1, 1), (0, 1), (0, -1), (1, -1), (1, 0), (1, 1)}\n",
    "    row = grid.shape[0]\n",
    "    col = grid.shape[1]\n",
    "    agent = grid[coord[0]][coord[1]]\n",
    "    neighbors = []\n",
    "    \n",
    "    for n in neighborMatrix:\n",
    "        new_x = coord[0] + n[0]\n",
    "        new_y = coord[1] + n[1]\n",
    "        # boundary check\n",
    "        if (new_x >=0 and new_x < row) and (new_y >= 0 and new_y < col):\n",
    "            neighbor = grid[new_x][new_y]\n",
    "        else:\n",
    "            neighbor = 0\n",
    "        neighbors.append(neighbor)\n",
    "    \n",
    "    # compare the satisfication percentage with the threshold\n",
    "    p = neighbors.count(agent) / np.count_nonzero(np.array(neighbors))\n",
    "    # p is smaller than proportion, this agent is unsatisfied\n",
    "    if p < proportion:\n",
    "        return True, coord\n",
    "    else:\n",
    "        return False, coord"
   ]
  },
  {
   "cell_type": "markdown",
   "metadata": {},
   "source": [
    "### d) Full Simulation\n",
    "\n",
    "Write a function simulate(grid, preferred_proportion, max_steps, no_changes_steps, iterations_to_next_vizualization) that performs a full simulation of Schelling's model given a specific start state by performing steps until the maximum number of steps is reached or the was no change for the given amount of steps. Every iterations_to_next_vizualization steps, a visualization of the model should be plotted.\n"
   ]
  },
  {
   "cell_type": "code",
   "execution_count": 18,
   "metadata": {},
   "outputs": [],
   "source": [
    "def full_simulate(grid, preferred_proportion, max_steps, iterations_to_next_vizualization, no_change_steps=False):\n",
    "    for m in range(max_steps):\n",
    "        satis_score, new_grid = simulate(grid, preferred_proportion)\n",
    "        # visualize in each designated steps\n",
    "        if m in iterations_to_next_vizualization:\n",
    "            print('Step:{0} Satisfication Score: {1}'.format(m, satis_score))\n",
    "            visualize(grid)\n",
    "        if (new_grid == grid).all():\n",
    "            no_change_steps = True\n",
    "            print('No changes in step: ', m)\n",
    "            break\n",
    "        grid = new_grid\n",
    "    if no_change_steps == False:\n",
    "        print('Reach the maximum steps: ', max_steps)\n"
   ]
  },
  {
   "cell_type": "code",
   "execution_count": 19,
   "metadata": {},
   "outputs": [
    {
     "name": "stdout",
     "output_type": "stream",
     "text": [
      "Step:0 Satisfication Score: 0.5347222222222222\n"
     ]
    },
    {
     "data": {
      "image/png": "[encoded data removed]",
      "text/plain": [
       "<Figure size 432x288 with 1 Axes>"
      ]
     },
     "metadata": {
      "needs_background": "light"
     },
     "output_type": "display_data"
    },
    {
     "name": "stdout",
     "output_type": "stream",
     "text": [
      "Step:5 Satisfication Score: 0.9555555555555556\n"
     ]
    },
    {
     "data": {
      "image/png": "[encoded data removed]",
      "text/plain": [
       "<Figure size 432x288 with 1 Axes>"
      ]
     },
     "metadata": {
      "needs_background": "light"
     },
     "output_type": "display_data"
    },
    {
     "name": "stdout",
     "output_type": "stream",
     "text": [
      "Step:10 Satisfication Score: 0.9819444444444444\n"
     ]
    },
    {
     "data": {
      "image/png": "[encoded data removed]",
      "text/plain": [
       "<Figure size 432x288 with 1 Axes>"
      ]
     },
     "metadata": {
      "needs_background": "light"
     },
     "output_type": "display_data"
    },
    {
     "name": "stdout",
     "output_type": "stream",
     "text": [
      "No changes in step:  11\n"
     ]
    }
   ],
   "source": [
    "np.random.seed(2019)\n",
    "grid = create_grid((30,30), 0.4, 0.4)\n",
    "pref_prop = 0.5\n",
    "max_steps = 20\n",
    "iter_to_visul = np.linspace(0, 20, 5) # [0, 5, 10, 15, 20] visualize every 5 steps\n",
    "full_simulate(grid, pref_prop, max_steps, iter_to_visul)"
   ]
  },
  {
   "cell_type": "markdown",
   "metadata": {},
   "source": [
    "### e) Model Extension\n",
    "\n",
    "Edit your functions such that they support multiple groups (instead of just red and blue), and each group can have a separate preferred proportion. Use for this the following signatures\n",
    "\n",
    "create_grid (shape, shares): percentages should be a list of shares for each color\n",
    "visualize(grid) => choose appropriate colors\n",
    "Simulate a single step (potential movement of a single randomly picked agent) of the Schelling model with a function simulate(grid, preferred_proportions) => Gives a list of preferred proportions for each color.\n"
   ]
  },
  {
   "cell_type": "code",
   "execution_count": 20,
   "metadata": {},
   "outputs": [],
   "source": [
    "def create_grid_ex(shape, shares):\n",
    "    if sum(shares) <= 1:\n",
    "        num = shape[0] * shape[1]\n",
    "        empty_num = num  # the remaining share is empty\n",
    "        share_array = []\n",
    "        for i, s in enumerate(shares):\n",
    "            share_num = int(s * num)\n",
    "            empty_num -= share_num\n",
    "            # initialize the agents with 1, 2, 3...; 0 means empty agent\n",
    "            share = [i+1] * share_num\n",
    "            share_array += share\n",
    "\n",
    "        # check whethre there are empty agents\n",
    "        if empty_num > 0:\n",
    "            empty = [0] * empty_num\n",
    "            arr = np.array(share_array + empty)\n",
    "        else:\n",
    "            arr = np.array(share_array)\n",
    "\n",
    "        np.random.shuffle(arr)\n",
    "        return arr.reshape(shape[0], shape[1])\n",
    "    else:\n",
    "        print('Make sure the sum of all shares is no larger than 1')\n",
    "\n",
    "\n",
    "def visualize_ex(grid, shares):\n",
    "    color_list = ['white', 'red', 'yellow',\n",
    "                  'orange', 'lime', 'green', 'cyan', 'blue']\n",
    "    color_num = len(shares)\n",
    "    # sum(shares) = 0.99999 ?? sum([0.3, 0.3, 0.3, 0.1]) = 0.999999\n",
    "    if 1 - sum(shares) < 1e-5:\n",
    "        # agent1 --> red, agent2 --> yellow, etc...\n",
    "        cmap = colors.ListedColormap(color_list[1:color_num+1])\n",
    "    elif sum(shares) < 1:\n",
    "        # white color represents empty agent\n",
    "        cmap = colors.ListedColormap(color_list[0:color_num+1])\n",
    "    else:\n",
    "        print('Make sure the sum of all shares is no larger than 1')\n",
    "\n",
    "    fig, ax = plt.subplots()\n",
    "    ax.imshow(grid, cmap=cmap)\n",
    "\n",
    "    return plt.show()\n",
    "\n",
    "\n",
    "def simulate_ex(grid, preferred_proportion):\n",
    "    satis_score = 0\n",
    "    unsatisfied = []\n",
    "    for x in range(grid.shape[0]):\n",
    "        for y in range(grid.shape[1]):\n",
    "            coord = (x, y)\n",
    "            if grid[x][y] != 0:  # only consider those agents that are not empty\n",
    "                share_index = grid[x][y] - 1 # match the index to preferred_proportion\n",
    "                is_unsatisfied, coord = find_unsatisfied_ex(grid, coord, preferred_proportion[share_index])\n",
    "                if is_unsatisfied == True:\n",
    "                    unsatisfied.append(coord)  # record the coordinates\n",
    "\n",
    "    # calculate satisfication score (only consider non-empty agents)\n",
    "    satis_score = 1 - len(unsatisfied)/np.count_nonzero(grid)\n",
    "    values = [grid[v[0]][v[1]] for v in unsatisfied]\n",
    "    np.random.shuffle(values)\n",
    "    new_grid = grid.copy()\n",
    "    for i, coord in enumerate(unsatisfied):\n",
    "        new_grid[coord[0]][coord[1]] = values[i]\n",
    "\n",
    "    return satis_score, new_grid\n",
    "\n",
    "\n",
    "def find_unsatisfied_ex(grid, coord, proportion):\n",
    "    neighborMatrix = {(-1, -1), (-1, 0), (-1, 1), (0, 1),\n",
    "                      (0, -1), (1, -1), (1, 0), (1, 1)}\n",
    "    row = grid.shape[0]\n",
    "    col = grid.shape[1]\n",
    "    neighbors = []\n",
    "\n",
    "    agent = grid[coord[0]][coord[1]]\n",
    "    for n in neighborMatrix:\n",
    "        new_x = coord[0] + n[0]\n",
    "        new_y = coord[1] + n[1]\n",
    "        # boundary check\n",
    "        if (new_x >= 0 and new_x < row) and (new_y >= 0 and new_y < col):\n",
    "            neighbor = grid[new_x][new_y]\n",
    "        else:\n",
    "            neighbor = 0\n",
    "        neighbors.append(neighbor)\n",
    "    # compare the satisfication percentage with the threshold\n",
    "    p = neighbors.count(agent) / np.count_nonzero(np.array(neighbors))\n",
    "    if p < proportion:\n",
    "        return True, coord\n",
    "    else:\n",
    "        return False, coord\n",
    "\n",
    "\n",
    "def full_simulate_ex(grid, shares, preferred_proportion, max_steps, iterations_to_next_vizualization, no_change_steps=False):\n",
    "    for m in range(max_steps):\n",
    "        satis_score, new_grid = simulate_ex(grid, preferred_proportion)\n",
    "        # visualize in each designated steps\n",
    "        if m in iterations_to_next_vizualization:\n",
    "            print('Step:{0} Satisfication Score: {1}'.format(m, satis_score))\n",
    "            visualize_ex(grid, shares)\n",
    "        if (new_grid == grid).all():\n",
    "            no_change_steps = True\n",
    "            print('No changes in step: ', m)\n",
    "            break\n",
    "        grid = new_grid\n",
    "    if no_change_steps == False:\n",
    "        print('Reach the maximum steps: ', max_steps)"
   ]
  },
  {
   "cell_type": "code",
   "execution_count": 22,
   "metadata": {
    "scrolled": false
   },
   "outputs": [
    {
     "name": "stdout",
     "output_type": "stream",
     "text": [
      "Step:0 Satisfication Score: 0.24444444444444446\n"
     ]
    },
    {
     "data": {
      "image/png": "[encoded data removed]",
      "text/plain": [
       "<Figure size 432x288 with 1 Axes>"
      ]
     },
     "metadata": {
      "needs_background": "light"
     },
     "output_type": "display_data"
    },
    {
     "name": "stdout",
     "output_type": "stream",
     "text": [
      "Step:10 Satisfication Score: 0.8966666666666667\n"
     ]
    },
    {
     "data": {
      "image/png": "[encoded data removed]",
      "text/plain": [
       "<Figure size 432x288 with 1 Axes>"
      ]
     },
     "metadata": {
      "needs_background": "light"
     },
     "output_type": "display_data"
    },
    {
     "name": "stdout",
     "output_type": "stream",
     "text": [
      "Step:20 Satisfication Score: 0.9299999999999999\n"
     ]
    },
    {
     "data": {
      "image/png": "[encoded data removed]",
      "text/plain": [
       "<Figure size 432x288 with 1 Axes>"
      ]
     },
     "metadata": {
      "needs_background": "light"
     },
     "output_type": "display_data"
    },
    {
     "name": "stdout",
     "output_type": "stream",
     "text": [
      "Step:30 Satisfication Score: 0.9344444444444444\n"
     ]
    },
    {
     "data": {
      "image/png": "[encoded data removed]",
      "text/plain": [
       "<Figure size 432x288 with 1 Axes>"
      ]
     },
     "metadata": {
      "needs_background": "light"
     },
     "output_type": "display_data"
    },
    {
     "name": "stdout",
     "output_type": "stream",
     "text": [
      "Step:40 Satisfication Score: 0.94\n"
     ]
    },
    {
     "data": {
      "image/png": "[encoded data removed]",
      "text/plain": [
       "<Figure size 432x288 with 1 Axes>"
      ]
     },
     "metadata": {
      "needs_background": "light"
     },
     "output_type": "display_data"
    },
    {
     "name": "stdout",
     "output_type": "stream",
     "text": [
      "Step:50 Satisfication Score: 0.94\n"
     ]
    },
    {
     "data": {
      "image/png": "[encoded data removed]",
      "text/plain": [
       "<Figure size 432x288 with 1 Axes>"
      ]
     },
     "metadata": {
      "needs_background": "light"
     },
     "output_type": "display_data"
    },
    {
     "name": "stdout",
     "output_type": "stream",
     "text": [
      "Step:60 Satisfication Score: 0.94\n"
     ]
    },
    {
     "data": {
      "image/png": "[encoded data removed]",
      "text/plain": [
       "<Figure size 432x288 with 1 Axes>"
      ]
     },
     "metadata": {
      "needs_background": "light"
     },
     "output_type": "display_data"
    },
    {
     "name": "stdout",
     "output_type": "stream",
     "text": [
      "Step:70 Satisfication Score: 0.9388888888888889\n"
     ]
    },
    {
     "data": {
      "image/png": "[encoded data removed]",
      "text/plain": [
       "<Figure size 432x288 with 1 Axes>"
      ]
     },
     "metadata": {
      "needs_background": "light"
     },
     "output_type": "display_data"
    },
    {
     "name": "stdout",
     "output_type": "stream",
     "text": [
      "Step:80 Satisfication Score: 0.9388888888888889\n"
     ]
    },
    {
     "data": {
      "image/png": "[encoded data removed]",
      "text/plain": [
       "<Figure size 432x288 with 1 Axes>"
      ]
     },
     "metadata": {
      "needs_background": "light"
     },
     "output_type": "display_data"
    },
    {
     "name": "stdout",
     "output_type": "stream",
     "text": [
      "Step:90 Satisfication Score: 0.9388888888888889\n"
     ]
    },
    {
     "data": {
      "image/png": "[encoded data removed]",
      "text/plain": [
       "<Figure size 432x288 with 1 Axes>"
      ]
     },
     "metadata": {
      "needs_background": "light"
     },
     "output_type": "display_data"
    },
    {
     "name": "stdout",
     "output_type": "stream",
     "text": [
      "Reach the maximum steps:  100\n"
     ]
    }
   ],
   "source": [
    "np.random.seed(2019)\n",
    "shares = [0.3, 0.3, 0.3, 0.1]\n",
    "preferred_proportion = [0.4, 0.3, 0.5, 0.2]\n",
    "iter_to_visul = np.linspace(0, 100, 11) # visualize every 10 steps\n",
    "grid = create_grid_ex((30, 30), shares)\n",
    "full_simulate_ex(grid, shares, preferred_proportion, 100, iter_to_visul)"
   ]
  },
  {
   "cell_type": "code",
   "execution_count": null,
   "metadata": {},
   "outputs": [],
   "source": []
  }
 ],
 "metadata": {
  "kernel_info": {
   "name": "python3"
  },
  "kernelspec": {
   "display_name": "Python 3",
   "language": "python",
   "name": "python3"
  },
  "language_info": {
   "codemirror_mode": {
    "name": "ipython",
    "version": 3
   },
   "file_extension": ".py",
   "mimetype": "text/x-python",
   "name": "python",
   "nbconvert_exporter": "python",
   "pygments_lexer": "ipython3",
   "version": "3.6.7"
  },
  "nteract": {
   "version": "0.12.3"
  },
  "toc": {
   "base_numbering": 1,
   "nav_menu": {},
   "number_sections": true,
   "sideBar": true,
   "skip_h1_title": false,
   "title_cell": "Table of Contents",
   "title_sidebar": "Contents",
   "toc_cell": false,
   "toc_position": {},
   "toc_section_display": true,
   "toc_window_display": false
  },
  "varInspector": {
   "cols": {
    "lenName": 16,
    "lenType": 16,
    "lenVar": 40
   },
   "kernels_config": {
    "python": {
     "delete_cmd_postfix": "",
     "delete_cmd_prefix": "del ",
     "library": "var_list.py",
     "varRefreshCmd": "print(var_dic_list())"
    },
    "r": {
     "delete_cmd_postfix": ") ",
     "delete_cmd_prefix": "rm(",
     "library": "var_list.r",
     "varRefreshCmd": "cat(var_dic_list()) "
    }
   },
   "types_to_exclude": [
    "module",
    "function",
    "builtin_function_or_method",
    "instance",
    "_Feature"
   ],
   "window_display": false
  }
 },
 "nbformat": 4,
 "nbformat_minor": 2
}
