{
  "cells": [
    {
      "cell_type": "markdown",
      "source": [
        "# Third home assignment Social Data Science"
      ],
      "metadata": {}
    },
    {
      "cell_type": "raw",
      "source": [
        "Submit your solution to L2P until Thursday, January 24th.\n",
        "\n",
        "You can (and should!) submit solutions in teams of up to four members.\n",
        "Please denote all members of the team with their student id and full name in the notebook. Please submit only one solution per team!\n",
        "\n",
        "Cite ALL your sources for coding this home assignment. In case of plagiarism (copying solutions from other teams or from the internet) ALL team members will be expelled from the course without warning.\n"
      ],
      "metadata": {}
    },
    {
      "cell_type": "markdown",
      "source": [
        "# Temporal networks"
      ],
      "metadata": {}
    },
    {
      "cell_type": "markdown",
      "source": [
        "Consider a human contact dataset (highschool_2011.csv) which consists of contacts between highschool students. Column 1 indicates the time and columns 2 and 3 indicates the node ids (you can ignore the rest of the columns). "
      ],
      "metadata": {}
    },
    {
      "cell_type": "markdown",
      "source": [
        "Write a function that takes as input the dataset and calculates the temporal correlation present in the dataset. "
      ],
      "metadata": {}
    },
    {
      "cell_type": "code",
      "source": [
        "import pandas as pd\n",
        "import numpy as np\n",
        "from collections import Counter"
      ],
      "outputs": [],
      "execution_count": 1,
      "metadata": {
        "ExecuteTime": {
          "end_time": "2019-01-24T13:24:23.749786Z",
          "start_time": "2019-01-24T13:24:22.917980Z"
        }
      }
    },
    {
      "cell_type": "code",
      "source": [
        "file_path = '../dataset/highschool_2011.csv'\n",
        "df_school = pd.read_csv(file_path, sep='\\t', header=None)\n",
        "df_school = df_school.iloc[:, :3]\n",
        "df_school.columns = ['time', 'id1', 'id2']\n",
        "# df_school = df_school.sort_values('time')"
      ],
      "outputs": [],
      "execution_count": 2,
      "metadata": {
        "ExecuteTime": {
          "end_time": "2019-01-24T13:24:23.783988Z",
          "start_time": "2019-01-24T13:24:23.751548Z"
        }
      }
    },
    {
      "cell_type": "code",
      "source": [
        "def calc_correlation(df_school, edge):\n",
        "    value = 0\n",
        "    for t_index in range(len(unique_time)-1):\n",
        "        t_edges = df_school.loc[df_school['time'] == unique_time[t_index]].iloc[:, 1:].values\n",
        "        t1_edges = df_school.loc[df_school['time'] == unique_time[t_index+1]].iloc[:, 1:].values\n",
        "        if (edge in t_edges) & (edge in t1_edges):\n",
        "            for j in unique_edges:\n",
        "                count = 0\n",
        "                edge_pair = [edge, j]\n",
        "                if (edge_pair in t_edges) & (edge_pair in t1_edges):\n",
        "                    count += 1\n",
        "            value += count / np.sqrt(len(t_edges) * len(t1_edges))\n",
        "    C_i = value / (len(unique_time) - 1)\n",
        "    return C_i"
      ],
      "outputs": [],
      "execution_count": 3,
      "metadata": {
        "ExecuteTime": {
          "end_time": "2019-01-24T13:24:23.795845Z",
          "start_time": "2019-01-24T13:24:23.786967Z"
        }
      }
    },
    {
      "cell_type": "code",
      "source": [
        "def count_common_edges(list1, list2):\n",
        "    count = 0\n",
        "    for i in range(len(list1)):\n",
        "        edge = list1[i]\n",
        "        for j in range(len(list2)):\n",
        "            next_edge = list2[j]\n",
        "            # count common edge list\n",
        "            if (edge == next_edge).all():\n",
        "                count += 1\n",
        "    return count * 2"
      ],
      "outputs": [],
      "execution_count": 4,
      "metadata": {
        "ExecuteTime": {
          "end_time": "2019-01-24T13:24:23.803236Z",
          "start_time": "2019-01-24T13:24:23.798693Z"
        }
      }
    },
    {
      "cell_type": "code",
      "source": [
        "def calc_temporal_corr(df_school):\n",
        "    all_time = df_school.groupby('time')\n",
        "    unique_edges = set(list(df_school['id1']) + list(df_school['id2']))\n",
        "    N = len(unique_edges)\n",
        "    T = len(df_school['time'].unique())\n",
        "    \n",
        "    C = 0\n",
        "    a_t = 0\n",
        "    a_t1 = 0\n",
        "    t_edge = []\n",
        "    for t, edges in all_time:\n",
        "        t1_edge = edges.iloc[:, 1:].values\n",
        "        a_t1 = len(t1_edge)\n",
        "        common_edge = count_common_edges(t_edge, t1_edge)\n",
        "        if common_edge != 0:\n",
        "            C += common_edge / np.sqrt(a_t * a_t1)\n",
        "        t_edge = t1_edge\n",
        "        a_t = a_t1\n",
        "    C = C / (N * (T-1))\n",
        "    return C"
      ],
      "outputs": [],
      "execution_count": 5,
      "metadata": {
        "ExecuteTime": {
          "end_time": "2019-01-24T13:24:23.815769Z",
          "start_time": "2019-01-24T13:24:23.805128Z"
        }
      }
    },
    {
      "cell_type": "code",
      "source": [
        "temporal_corr = calc_temporal_corr(df_school)\n",
        "print('Temporal Correlation: ', temporal_corr)"
      ],
      "outputs": [
        {
          "output_type": "stream",
          "name": "stdout",
          "text": [
            "Temporal Correlation:  0.010399319199856231\n"
          ]
        }
      ],
      "execution_count": 6,
      "metadata": {
        "ExecuteTime": {
          "end_time": "2019-01-24T13:24:25.806692Z",
          "start_time": "2019-01-24T13:24:23.817527Z"
        }
      }
    },
    {
      "cell_type": "markdown",
      "source": [
        "Write a function to create a null model of the network by randomly shuffling the time stamps of the edges. Typically, consider a random pair of edges and change their time stamps (repeat this step 1000 times). Input to the function should be the network only. Recalculate the temporal correlation in this null model. "
      ],
      "metadata": {}
    },
    {
      "cell_type": "code",
      "source": [
        "def null_model(df_school):\n",
        "    df_shuffle = df_school.copy()\n",
        "    time_index = df_shuffle.index\n",
        "    for i in range(10000):\n",
        "        # random choose 2 index to swap\n",
        "        swap_index = np.random.choice(time_index, 2)\n",
        "        df_shuffle['time'][swap_index[0]] = df_school['time'][swap_index[1]]\n",
        "        df_shuffle['time'][swap_index[1]] = df_school['time'][swap_index[0]]\n",
        "    shuffle_corr = calc_temporal_corr(df_shuffle)\n",
        "    return shuffle_corr"
      ],
      "outputs": [],
      "execution_count": 7,
      "metadata": {
        "ExecuteTime": {
          "end_time": "2019-01-24T13:24:25.814309Z",
          "start_time": "2019-01-24T13:24:25.808709Z"
        }
      }
    },
    {
      "cell_type": "code",
      "source": [
        "null_model_corr = null_model(df_school)\n",
        "print('Temporal correlation for null mode: ', null_model_corr)"
      ],
      "outputs": [
        {
          "output_type": "stream",
          "name": "stdout",
          "text": [
            "Temporal correlation for null mode:  0.003357173749101719\n"
          ]
        }
      ],
      "execution_count": 8,
      "metadata": {
        "ExecuteTime": {
          "end_time": "2019-01-24T13:24:29.557550Z",
          "start_time": "2019-01-24T13:24:25.816551Z"
        }
      }
    },
    {
      "cell_type": "markdown",
      "source": [
        "From the contact information provided in the dataset write a function to calculate the activity potential of each node i (F(i)). The function should take as input the network and return a dictionary of nodes and the corresponding activity potential. Now write a function to generate the network for next time step using the activity-driven network model. You can set the value of m (the number of links generated by each active node to 2). Note that a node i becomes active with a probability alpha\\*F(i), alpha = 10"
      ],
      "metadata": {}
    },
    {
      "cell_type": "code",
      "source": [
        "def calc_act_potential(df_school):\n",
        "    df = df_school.copy()\n",
        "    act_potential = {}\n",
        "    \n",
        "    edges = list(df['id1']) + list(df['id2'])\n",
        "    edge_contact = Counter(edges)\n",
        "    unique_edges = set(edges)\n",
        "    all_contacts = len(df)\n",
        "\n",
        "    for edge_num in unique_edges:\n",
        "        act_potential[edge_num] = edge_contact[edge_num] / all_contacts\n",
        "        \n",
        "    return act_potential"
      ],
      "outputs": [],
      "execution_count": 9,
      "metadata": {
        "ExecuteTime": {
          "end_time": "2019-01-24T13:24:29.564762Z",
          "start_time": "2019-01-24T13:24:29.558992Z"
        }
      }
    },
    {
      "cell_type": "code",
      "source": [
        "def act_driven_model(df_school):\n",
        "    act_potential = calc_act_potential(df_school)\n",
        "    scale_act_potential = {}\n",
        "    # scale activity potential probability\n",
        "    for i in act_potential.keys():\n",
        "        scale_act_potential[i] = act_potential[i] * 10\n",
        "        \n",
        "    active_nodes = []\n",
        "    for i in scale_act_potential.keys():\n",
        "        if scale_act_potential[i] > np.random.random(1):\n",
        "            active_nodes.append(i)\n",
        "\n",
        "    edges = list(scale_act_potential.keys())\n",
        "    all_links = []\n",
        "    for active_node in active_nodes:\n",
        "        remain_nodes = [e for e in edges if e != active_node]\n",
        "        # random choose 2 nodes to build a link\n",
        "        neighbor_nodes = np.random.choice(remain_nodes, size=2)\n",
        "        links = [(active_node, neighbor_nodes[0]), (active_node, neighbor_nodes[1])]\n",
        "        all_links += links\n",
        "    \n",
        "    return all_links"
      ],
      "outputs": [],
      "execution_count": 10,
      "metadata": {
        "ExecuteTime": {
          "end_time": "2019-01-24T13:24:29.577655Z",
          "start_time": "2019-01-24T13:24:29.566978Z"
        }
      }
    },
    {
      "cell_type": "code",
      "source": [
        "# links generaged for next time step\n",
        "links = act_driven_model(df_school)\n",
        "links"
      ],
      "outputs": [
        {
          "output_type": "execute_result",
          "execution_count": 11,
          "data": {
            "text/plain": [
              "[(2, 65),\n",
              " (2, 94),\n",
              " (22, 10),\n",
              " (22, 63),\n",
              " (28, 11),\n",
              " (28, 18),\n",
              " (41, 73),\n",
              " (41, 53),\n",
              " (43, 106),\n",
              " (43, 120),\n",
              " (49, 110),\n",
              " (49, 50),\n",
              " (54, 114),\n",
              " (54, 9),\n",
              " (56, 91),\n",
              " (56, 60),\n",
              " (75, 110),\n",
              " (75, 119),\n",
              " (85, 15),\n",
              " (85, 5),\n",
              " (89, 79),\n",
              " (89, 37),\n",
              " (98, 30),\n",
              " (98, 110),\n",
              " (99, 71),\n",
              " (99, 117),\n",
              " (100, 39),\n",
              " (100, 45),\n",
              " (103, 91),\n",
              " (103, 35),\n",
              " (106, 16),\n",
              " (106, 72)]"
            ]
          },
          "metadata": {}
        }
      ],
      "execution_count": 11,
      "metadata": {
        "ExecuteTime": {
          "end_time": "2019-01-24T13:24:29.600679Z",
          "start_time": "2019-01-24T13:24:29.580425Z"
        }
      }
    },
    {
      "cell_type": "markdown",
      "source": [
        "Write a function to obtain the ego (immediate neighbors) for each node. Your function should take as input the network and the node id and return its ego.\n",
        "Using the activity potential calculated previously write a function to generate the network for the next time step using the activity-driven network model with memory. Any node links with a previously contacted node with probability n/n+1 (n is the size of its ego) or with a new node with probability 1/n+1. Note that a node i becomes active with a probability alpha\\*F(i), alpha = 10"
      ],
      "metadata": {}
    },
    {
      "cell_type": "code",
      "source": [
        "def find_ego(df_school):\n",
        "    df = df_school.copy()\n",
        "    edges = list(df['id1']) + list(df['id2'])\n",
        "    unique_edges = set(edges)\n",
        "    ego = {}\n",
        "    for e in unique_edges:\n",
        "        # find immediate neighbors\n",
        "        e_neighbor = set(df.loc[df['id1'] == e, 'id2'].tolist() + df.loc[df['id2'] == e, 'id1'].tolist())\n",
        "        ego[e] = e_neighbor\n",
        "    return ego"
      ],
      "outputs": [],
      "execution_count": 12,
      "metadata": {
        "ExecuteTime": {
          "end_time": "2019-01-24T13:24:29.608949Z",
          "start_time": "2019-01-24T13:24:29.602820Z"
        }
      }
    },
    {
      "cell_type": "code",
      "source": [
        "ego = find_ego(df_school)\n",
        "# ego"
      ],
      "outputs": [],
      "execution_count": 13,
      "metadata": {
        "ExecuteTime": {
          "end_time": "2019-01-24T13:24:29.729034Z",
          "start_time": "2019-01-24T13:24:29.612072Z"
        }
      }
    },
    {
      "cell_type": "code",
      "source": [
        "def act_driven_memory(df_school):\n",
        "    \n",
        "    act_potential = calc_act_potential(df_school)\n",
        "    ego = find_ego(df_school)\n",
        "    \n",
        "    scale_act_potential = {}\n",
        "    # scale activity potential probability\n",
        "    for i in act_potential.keys():\n",
        "        scale_act_potential[i] = act_potential[i] * 10\n",
        "\n",
        "    active_nodes = []\n",
        "    for i in scale_act_potential.keys():\n",
        "        if scale_act_potential[i] > np.random.random(1):\n",
        "            active_nodes.append(i)\n",
        "\n",
        "    edges = list(scale_act_potential.keys())\n",
        "    all_links = []\n",
        "    for active_node in active_nodes:\n",
        "        memory_node_prob = {}\n",
        "        remain_nodes = [e for e in edges if e != active_node]\n",
        "        n = len(ego[active_node])\n",
        "        for e in remain_nodes:\n",
        "            if e in ego[active_node]:\n",
        "                memory_node_prob[e] = n / (n+1)\n",
        "            else:\n",
        "                memory_node_prob[e] = 1 / (n+1)\n",
        "            \n",
        "        p_list = np.array(list(memory_node_prob.values()))\n",
        "\n",
        "        # standarize probability with activity driven with memory model\n",
        "        memory_p = p_list / sum(p_list)\n",
        "        neighbor_nodes = np.random.choice(remain_nodes, size=2, p=memory_p)\n",
        "        memory_links = [(active_node, neighbor_nodes[0]), (active_node, neighbor_nodes[1])]\n",
        "        all_links += memory_links\n",
        "    \n",
        "    return all_links\n"
      ],
      "outputs": [],
      "execution_count": 16,
      "metadata": {
        "ExecuteTime": {
          "end_time": "2019-01-24T13:25:09.107085Z",
          "start_time": "2019-01-24T13:25:09.085873Z"
        }
      }
    },
    {
      "cell_type": "code",
      "source": [
        "memory_links = act_driven_memory(df_school)\n",
        "memory_links"
      ],
      "outputs": [
        {
          "output_type": "execute_result",
          "execution_count": 17,
          "data": {
            "text/plain": [
              "[(8, 41),\n",
              " (8, 42),\n",
              " (11, 37),\n",
              " (11, 107),\n",
              " (22, 74),\n",
              " (22, 101),\n",
              " (27, 63),\n",
              " (27, 100),\n",
              " (28, 49),\n",
              " (28, 76),\n",
              " (29, 88),\n",
              " (29, 98),\n",
              " (37, 63),\n",
              " (37, 64),\n",
              " (39, 21),\n",
              " (39, 53),\n",
              " (42, 101),\n",
              " (42, 47),\n",
              " (43, 75),\n",
              " (43, 58),\n",
              " (56, 29),\n",
              " (56, 108),\n",
              " (57, 67),\n",
              " (57, 75),\n",
              " (59, 27),\n",
              " (59, 13),\n",
              " (66, 106),\n",
              " (66, 26),\n",
              " (77, 54),\n",
              " (77, 59),\n",
              " (82, 32),\n",
              " (82, 3),\n",
              " (85, 13),\n",
              " (85, 121),\n",
              " (90, 31),\n",
              " (90, 109),\n",
              " (102, 82),\n",
              " (102, 34),\n",
              " (103, 74),\n",
              " (103, 48),\n",
              " (106, 23),\n",
              " (106, 68),\n",
              " (116, 5),\n",
              " (116, 9)]"
            ]
          },
          "metadata": {}
        }
      ],
      "execution_count": 17,
      "metadata": {
        "ExecuteTime": {
          "end_time": "2019-01-24T13:25:09.656436Z",
          "start_time": "2019-01-24T13:25:09.522782Z"
        }
      }
    },
    {
      "cell_type": "code",
      "source": [],
      "outputs": [],
      "execution_count": null,
      "metadata": {}
    }
  ],
  "metadata": {
    "kernelspec": {
      "name": "python3",
      "language": "python",
      "display_name": "Python 3"
    },
    "language_info": {
      "name": "python",
      "version": "3.6.7",
      "mimetype": "text/x-python",
      "codemirror_mode": {
        "name": "ipython",
        "version": 3
      },
      "pygments_lexer": "ipython3",
      "nbconvert_exporter": "python",
      "file_extension": ".py"
    },
    "toc": {
      "toc_position": {},
      "skip_h1_title": false,
      "number_sections": true,
      "title_cell": "Table of Contents",
      "toc_window_display": false,
      "base_numbering": 1,
      "toc_section_display": true,
      "title_sidebar": "Contents",
      "toc_cell": false,
      "nav_menu": {},
      "sideBar": true
    },
    "kernel_info": {
      "name": "python3"
    },
    "nteract": {
      "version": "0.12.3"
    }
  },
  "nbformat": 4,
  "nbformat_minor": 2
}