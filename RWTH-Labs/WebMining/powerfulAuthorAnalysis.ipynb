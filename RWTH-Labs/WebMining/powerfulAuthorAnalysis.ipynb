{
 "cells": [
  {
   "cell_type": "markdown",
   "metadata": {},
   "source": [
    "### Get a list of powerful authors in 'The_Donald' and 'politics' subreddits"
   ]
  },
  {
   "cell_type": "markdown",
   "metadata": {},
   "source": [
    "pol users:  251153\n",
    "don users:  145776\n",
    "mutual users:  48168"
   ]
  },
  {
   "cell_type": "code",
   "execution_count": 138,
   "metadata": {
    "scrolled": true
   },
   "outputs": [],
   "source": [
    "import pandas as pd\n",
    "\n",
    "def getAuthorProportion(file_path, subreddit):\n",
    "    df = pd.read_csv(file_path, sep='\\t', names=['author', 'score'])[1:]\n",
    "    reddit_bots = ['[deleted]', 'AutoModerator'] # Ignore the reddit bots\n",
    "    df = df.loc[df['author'].isin(reddit_bots) == False]\n",
    "    df_score = df['score'].astype(float)[1:] # Change column type as float\n",
    "    total_score = df_score.sum()\n",
    "    # Output some statistics\n",
    "    print('In {0}, total number of users: {1}'.format(subreddit, len(df)))\n",
    "    print('In {0}, sum of upvote: {1}'.format(subreddit, total_score))\n",
    "    print('In {0}, mean of upvote: {1}'.format(subreddit, df_score.mean()))\n",
    "    print('In {0}, standard deviation of upvote: {1}'.format(subreddit, df_score.std()))\n",
    "    \n",
    "    score_sum = 0\n",
    "    count = 1\n",
    "    while score_sum < 0.8 * total_score:\n",
    "        try:\n",
    "            score_sum += int(df.iat[count, 1])\n",
    "        except:\n",
    "            pass\n",
    "        count += 1\n",
    "    # Calculate the proportion of authors who contribute 80% of total upvote\n",
    "    print('{0}% of author in {1} contribute the 80% of total upvote'.format(round(count / len(df)*100, 2), subreddit)) "
   ]
  },
  {
   "cell_type": "code",
   "execution_count": 139,
   "metadata": {},
   "outputs": [
    {
     "name": "stdout",
     "output_type": "stream",
     "text": [
      "In politics, total number of users: 251152\n",
      "In politics, sum of upvote: 29206680.0\n",
      "In politics, mean of upvote: 116.29131478672193\n",
      "In politics, standard deviation of upvote: 696.0300547006325\n",
      "6.26% of author in politics contribute the 80% of total upvote\n"
     ]
    }
   ],
   "source": [
    "pol_file_path = './power_author_analysis/politics_author_score.csv'\n",
    "getAuthorProportion(pol_file_path, 'politics')"
   ]
  },
  {
   "cell_type": "code",
   "execution_count": 140,
   "metadata": {},
   "outputs": [
    {
     "name": "stdout",
     "output_type": "stream",
     "text": [
      "In The_Donald, total number of users: 145775\n",
      "In The_Donald, sum of upvote: 23966048.0\n",
      "In The_Donald, mean of upvote: 164.40550441093748\n",
      "In The_Donald, standard deviation of upvote: 776.8428421207984\n",
      "7.97% of author in The_Donald contribute the 80% of total upvote\n"
     ]
    }
   ],
   "source": [
    "don_file_path = './power_author_analysis/The_Donald_author_score.csv'\n",
    "getAuthorProportion(don_file_path, 'The_Donald')\n"
   ]
  },
  {
   "cell_type": "code",
   "execution_count": 2,
   "metadata": {},
   "outputs": [],
   "source": [
    "import os\n",
    "import time\n",
    "import pandas as pd\n",
    "\n",
    "def getHighScoreAuth(file_path):\n",
    "    \n",
    "    files = os.listdir(file_path)\n",
    "    author_scores = {}\n",
    "    for file in files:\n",
    "        filename = file_path + file\n",
    "        # Read file and rename the columns\n",
    "        df_highscore_au = pd.read_csv(filename, sep='\\t')\n",
    "        df_highscore_au = df_highscore_au.rename(columns={'Unnamed: 0':'author'})\n",
    "        # Collect author scores from each separated file and group them together\n",
    "        for author in df_highscore_au['author']:\n",
    "            score = df_highscore_au.loc[df_highscore_au['author'] == author, ['scores']].values\n",
    "            # Aggregate scores by authors\n",
    "            if author not in author_scores.keys():\n",
    "                author_scores[author] = int(score)\n",
    "            else:\n",
    "                author_scores[author] += int(score)\n",
    "\n",
    "    # Convert the dict to DataFrame and sort by scores         \n",
    "    df_score = pd.DataFrame(author_scores, index=['scores'])\n",
    "    df_score = df_score.transpose()\n",
    "    df_score = df_score.sort_values('scores', ascending=False)\n",
    "    return df_score\n",
    "            \n",
    "    "
   ]
  },
  {
   "cell_type": "code",
   "execution_count": 3,
   "metadata": {},
   "outputs": [],
   "source": [
    "filepath = './The_Donald_highScore/'\n",
    "don_highScore_auth = getHighScoreAuth(filepath)\n",
    "filepath = './politics_highScore/'\n",
    "pol_highScore_auth = getHighScoreAuth(filepath)"
   ]
  },
  {
   "cell_type": "code",
   "execution_count": 8,
   "metadata": {},
   "outputs": [],
   "source": [
    "def getHighCommAuth(file_path):\n",
    "    files = os.listdir(file_path)\n",
    "    author_comm = {}\n",
    "    for file in files:\n",
    "        # Get filename and read files\n",
    "        filename = file_path + file\n",
    "        df_comm_au = pd.read_csv(filename, sep='\\t')\n",
    "        df_comm_au = df_comm_au.rename(columns={'Unnamed: 0':'author'})\n",
    "        for author in df_comm_au['author']:\n",
    "            # Collect author quotations from each separated file and group them together\n",
    "            comm_count = df_comm_au.loc[df_comm_au['author'] == author, ['comm_below']].values\n",
    "            if author not in author_comm.keys():\n",
    "                author_comm[author] = int(comm_count)\n",
    "            else:\n",
    "                author_comm[author] += int(comm_count)\n",
    "    # Convert the quotations dict to DataFrame and sort by quotations\n",
    "    df_comm = pd.DataFrame(author_comm, index=['comm_below'])\n",
    "    df_comm = df_comm.transpose()\n",
    "    df_comm = df_comm.sort_values('comm_below', ascending=False)\n",
    "    return df_comm"
   ]
  },
  {
   "cell_type": "code",
   "execution_count": 9,
   "metadata": {},
   "outputs": [],
   "source": [
    "filepath = './The_Donald_highlinked/'\n",
    "don_highComm_auth = getHighCommAuth(filepath)\n",
    "filepath = './politics_highlinked/'\n",
    "pol_highComm_auth = getHighCommAuth(filepath)"
   ]
  },
  {
   "cell_type": "markdown",
   "metadata": {},
   "source": [
    "### Find powerful author in both 'The_Donald' and 'politics' subreddits, considering the high socre comment and high linked comment behavior"
   ]
  },
  {
   "cell_type": "code",
   "execution_count": 10,
   "metadata": {},
   "outputs": [],
   "source": [
    "# Extract the top 1000 high scored authors and high linked authors and do co-referencing by join two datframes\n",
    "don_highComm_auth = don_highComm_auth[:1000]\n",
    "don_highScore_auth = don_highScore_auth[:1000]\n",
    "don_powerAuth = don_highComm_auth.join(don_highScore_auth, how='inner')\n",
    "don_powerAuth.to_csv('./don_power_author.csv', sep='\\t') # Save the powerful author lists in \"The_Donald\""
   ]
  },
  {
   "cell_type": "code",
   "execution_count": 11,
   "metadata": {},
   "outputs": [],
   "source": [
    "# Extract the top 1000 high scored authors and high linked authors and do co-referencing by join two datframes\n",
    "pol_highComm_auth = pol_highComm_auth[:1000]\n",
    "pol_highScore_auth = pol_highScore_auth[:1000]\n",
    "pol_powerAuth = pol_highComm_auth.join(pol_highScore_auth, how='inner')\n",
    "pol_powerAuth.to_csv('./pol_power_author.csv', sep='\\t') # Save the powerful author lists in \"politics\""
   ]
  },
  {
   "cell_type": "code",
   "execution_count": null,
   "metadata": {},
   "outputs": [],
   "source": []
  },
  {
   "cell_type": "markdown",
   "metadata": {},
   "source": [
    "### Top 100 highly linked/scored authors in 'The_Donald'"
   ]
  },
  {
   "cell_type": "code",
   "execution_count": 27,
   "metadata": {},
   "outputs": [
    {
     "data": {
      "text/html": [
       "<iframe id=\"igraph\" scrolling=\"no\" style=\"border:none;\" seamless=\"seamless\" src=\"https://plot.ly/~xiaoqima/16.embed\" height=\"525px\" width=\"100%\"></iframe>"
      ],
      "text/plain": [
       "<plotly.tools.PlotlyDisplay object>"
      ]
     },
     "execution_count": 27,
     "metadata": {},
     "output_type": "execute_result"
    }
   ],
   "source": [
    "import plotly.plotly as py\n",
    "import plotly.graph_objs as go\n",
    "\n",
    "# Plot the top 100 highly linked and scored authors in 'The_Donald'\n",
    "trace1 = go.Bar(\n",
    "            x=don_powerAuth.index[:100],\n",
    "            y=don_powerAuth['comm_below'].values[:100],\n",
    "            name='total linked comments per author'\n",
    "            )\n",
    "trace2 = go.Bar(\n",
    "            x=don_powerAuth.index[:100],\n",
    "            y=-don_powerAuth['scores'].values[:100],\n",
    "            name='total scores per author'\n",
    "            )\n",
    "\n",
    "data = [trace1, trace2]\n",
    "layout = go.Layout(\n",
    "    title='Powerful Author in The_Donald', \n",
    "    xaxis={\"mirror\" : \"allticks\", 'side': 'top'}, \n",
    "    yaxis={\"mirror\" : \"allticks\", 'side': 'right'}  \n",
    ")\n",
    "\n",
    "py.iplot(data, layout=layout, filename='basic-bar')"
   ]
  },
  {
   "cell_type": "markdown",
   "metadata": {},
   "source": [
    "### Top 100 highly linked authors in 'politics'"
   ]
  },
  {
   "cell_type": "code",
   "execution_count": 26,
   "metadata": {},
   "outputs": [
    {
     "data": {
      "text/html": [
       "<iframe id=\"igraph\" scrolling=\"no\" style=\"border:none;\" seamless=\"seamless\" src=\"https://plot.ly/~xiaoqima/16.embed\" height=\"525px\" width=\"100%\"></iframe>"
      ],
      "text/plain": [
       "<plotly.tools.PlotlyDisplay object>"
      ]
     },
     "execution_count": 26,
     "metadata": {},
     "output_type": "execute_result"
    }
   ],
   "source": [
    "import plotly.plotly as py\n",
    "import plotly.graph_objs as go\n",
    "\n",
    "# Plot the top 100 highly linked and scored authors in 'politics'\n",
    "trace1 = go.Bar(\n",
    "            x=pol_powerAuth.index[1:101],\n",
    "            y=pol_powerAuth['comm_below'].values[1:101],\n",
    "            name='total linked comments per author'\n",
    "            )\n",
    "trace2 = go.Bar(\n",
    "            x=pol_powerAuth.index[1:101],\n",
    "            y=-pol_powerAuth['scores'].values[1:101],\n",
    "            name='total scores per author'\n",
    "            )\n",
    "\n",
    "data = [trace1, trace2]\n",
    "layout = go.Layout(\n",
    "    title=\"Powerful Author in politics\",\n",
    "    xaxis={\"mirror\" : \"allticks\", 'side': 'top'}, \n",
    "    yaxis={\"mirror\" : \"allticks\", 'side': 'right'}  \n",
    ")\n",
    "\n",
    "py.iplot(data, layout=layout, filename='basic-bar', title='Powerful Authors in politics')"
   ]
  },
  {
   "cell_type": "markdown",
   "metadata": {},
   "source": []
  },
  {
   "cell_type": "code",
   "execution_count": null,
   "metadata": {},
   "outputs": [],
   "source": []
  }
 ],
 "metadata": {
  "kernelspec": {
   "display_name": "Python 3",
   "language": "python",
   "name": "python3"
  },
  "language_info": {
   "codemirror_mode": {
    "name": "ipython",
    "version": 3
   },
   "file_extension": ".py",
   "mimetype": "text/x-python",
   "name": "python",
   "nbconvert_exporter": "python",
   "pygments_lexer": "ipython3",
   "version": "3.6.4"
  }
 },
 "nbformat": 4,
 "nbformat_minor": 2
}
