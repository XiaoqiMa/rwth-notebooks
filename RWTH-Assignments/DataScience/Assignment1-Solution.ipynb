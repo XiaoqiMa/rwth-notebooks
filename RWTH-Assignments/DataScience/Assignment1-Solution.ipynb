{
  "cells": [
    {
      "cell_type": "markdown",
      "source": [
        "# IDS Assignment 1\n",
        "Document your results as well as the way you obtained them in this jupyter notebook. A seperate report (pdf, word etc.) is _not_ required. However, it is necessary that you provide the python code leading to your results as well as textual answers to the assignment questions in this notebook. \n",
        "\nDo not change the general structure of this notebook, but you can add further markdown or code cells to explain your solutions if necessary. In the end, submit this file in moodle."
      ],
      "metadata": {}
    },
    {
      "cell_type": "markdown",
      "source": [
        "## Get to know the data"
      ],
      "metadata": {}
    },
    {
      "cell_type": "markdown",
      "source": [
        "### Question 1 (Indicating type): \n",
        "1. Identify precise type of each attribute. Note that the right answers are like: “numerical-continuous-ratio”, just Numerical or Categorical is not enough."
      ],
      "metadata": {}
    },
    {
      "cell_type": "markdown",
      "source": [
        "<font color='blue'>\n",
        "Explanation:\n",
        "\n",
        "| Attributes     | type                |\n",
        "| -------------- | ------------------- |\n",
        "| Age            | numeric-discrete    |\n",
        "| workclass      | categorical-nominal |\n",
        "| education      | categorical-ordinal |\n",
        "| education-num  | numeric-discrete    |\n",
        "| marital-status | categorical-nominal |\n",
        "| occupation     | categorical-nominal |\n",
        "| relationship   | categorical-nominal |\n",
        "| race           | categorical-nominal |\n",
        "| sex            | categorical-nominal |\n",
        "| hours-per-week | numeric-discrete    |\n",
        "| native-country | categorical-nominal |\n",
        "| label          | categorical-ordinal |"
      ],
      "metadata": {}
    },
    {
      "cell_type": "markdown",
      "source": [
        "### Question 2 (Removing outliers):\n",
        "2. (a) Explore into \"age\" and \"hours-per-week\" and identify outliers (Boxplot returns whiskers). After identifying outliers, remove them (do it just once on the data set). Now you should have two data sets (cleaned and original)."
      ],
      "metadata": {}
    },
    {
      "cell_type": "code",
      "source": [
        "# import all necessary packages\n",
        "import os\n",
        "import graphviz\n",
        "import numpy as np\n",
        "import pandas as pd\n",
        "import seaborn as sns\n",
        "import matplotlib.pyplot as plt\n",
        "\n",
        "from sklearn import tree\n",
        "from DecisionTree import DecisionTree\n",
        "from sklearn.metrics import accuracy_score\n",
        "from sklearn.neural_network import MLPClassifier\n",
        "from sklearn.linear_model import LogisticRegression\n",
        "from sklearn.model_selection import train_test_split\n",
        "from sklearn.metrics import confusion_matrix, precision_score, recall_score, accuracy_score, f1_score, r2_score\n",
        "\n%matplotlib inline"
      ],
      "outputs": [],
      "execution_count": 1,
      "metadata": {}
    },
    {
      "cell_type": "code",
      "source": [
        "# read data from file, make sure file is available\n",
        "data_file = './data-set-assignment1/adult.data-3.csv'\n",
        "df_original = pd.read_csv(data_file)"
      ],
      "outputs": [],
      "execution_count": 2,
      "metadata": {}
    },
    {
      "cell_type": "code",
      "source": [
        "# visuilize outliers\n",
        "data = [df_original['age'], df_original['hours-per-week']]\n",
        "fig, ax = plt.subplots()\n",
        "ax.boxplot(data)\n",
        "ax.set_xticklabels(['age', 'hours-per-week'])"
      ],
      "outputs": [
        {
          "output_type": "execute_result",
          "execution_count": 3,
          "data": {
            "text/plain": [
              "[Text(0, 0, 'age'), Text(0, 0, 'hours-per-week')]"
            ]
          },
          "metadata": {}
        },
        {
          "output_type": "display_data",
          "data": {
            "image/png": "[encoded data removed]",
            "text/plain": [
              "<Figure size 432x288 with 1 Axes>"
            ]
          },
          "metadata": {}
        }
      ],
      "execution_count": 3,
      "metadata": {}
    },
    {
      "cell_type": "code",
      "source": [
        "# draw boxplot, return whiskers tuple (lower_whisker, upper_whisker)\n",
        "# Ref: https://stackoverflow.com/questions/23461713/obtaining-values-used-in-boxplot-using-python-and-matplotlib\n",
        "age_box = plt.boxplot(df_original['age'])\n",
        "age_whiskers = [item.get_ydata()[1] for item in age_box['whiskers']]\n",
        "\n",
        "hours_box = plt.boxplot(df_original['hours-per-week'])\n",
        "hours_whiskers = [item.get_ydata()[1] for item in hours_box['whiskers']]\n",
        "\n",
        "# remove outliers --> value beyond upper_whisker and lower_whisker\n",
        "df_cleaned = df_original.loc[(df_original['age'] <= age_whiskers[1]) &  \n",
        "                             (df_original['age'] >= age_whiskers[0]) &\n",
        "                             (df_original['hours-per-week'] <= hours_whiskers[1]) &\n",
        "                             (df_original['hours-per-week'] >= hours_whiskers[0])\n",
        "                            ]\n",
        "plt.close() # hide boxplot"
      ],
      "outputs": [],
      "execution_count": 4,
      "metadata": {}
    },
    {
      "cell_type": "markdown",
      "source": [
        "2. (b) Draw Boxplot of the cleaned data set for \"hours-per-week\". Is there still any outlier? If so, explain why?"
      ],
      "metadata": {}
    },
    {
      "cell_type": "code",
      "source": [
        "# draw boxplot on cleaned dataset\n",
        "plt.boxplot(df_cleaned['hours-per-week'])"
      ],
      "outputs": [
        {
          "output_type": "execute_result",
          "execution_count": 5,
          "data": {
            "text/plain": [
              "{'whiskers': [<matplotlib.lines.Line2D at 0x1a15451390>,\n",
              "  <matplotlib.lines.Line2D at 0x1a154516d8>],\n",
              " 'caps': [<matplotlib.lines.Line2D at 0x1a15451a20>,\n",
              "  <matplotlib.lines.Line2D at 0x1a15451d68>],\n",
              " 'boxes': [<matplotlib.lines.Line2D at 0x1a15451240>],\n",
              " 'medians': [<matplotlib.lines.Line2D at 0x1a1545a0f0>],\n",
              " 'fliers': [<matplotlib.lines.Line2D at 0x1a1545a438>],\n",
              " 'means': []}"
            ]
          },
          "metadata": {}
        },
        {
          "output_type": "display_data",
          "data": {
            "image/png": "[encoded data removed]",
            "text/plain": [
              "<Figure size 432x288 with 1 Axes>"
            ]
          },
          "metadata": {}
        }
      ],
      "execution_count": 5,
      "metadata": {}
    },
    {
      "cell_type": "markdown",
      "source": [
        "<font color='blue'>\n",
        "Explanation:\n",
        "\n**No, there are no outliers. In this case, as seen from the figure, the upper fence and the lower fence does not change. Therefore, after removing all outliers, there won't be any.** "
      ],
      "metadata": {}
    },
    {
      "cell_type": "markdown",
      "source": [
        "### Question 3 (Basic visualization):\n",
        "3. (a) Visualize mean and median of \"age\", and \"hours-per-week\" per \"sex\" by separate plots for the cleaned and the original data sets (there should be 8 plots, 4 plots for the original data set and 4 plots for the cleaned data set). "
      ],
      "metadata": {}
    },
    {
      "cell_type": "code",
      "source": [
        "# visualize for mean/median of \"age\"/\"hours-per-week\"\n",
        "def visualize(dataset):\n",
        "    \n",
        "    # calculate mean and median\n",
        "    age_m_mean = dataset[dataset['sex']=='Male']['age'].mean()\n",
        "    age_f_mean = dataset[dataset['sex']=='Female']['age'].mean()\n",
        "    age_m_median = dataset[dataset['sex']=='Male']['age'].median()\n",
        "    age_f_median = dataset[dataset['sex']=='Female']['age'].median()\n",
        "    \n",
        "    hours_m_mean = dataset[dataset['sex']=='Male']['hours-per-week'].mean()\n",
        "    hours_f_mean = dataset[dataset['sex']=='Female']['hours-per-week'].mean()\n",
        "    hours_m_median = dataset[dataset['sex']=='Male']['hours-per-week'].median()\n",
        "    hours_f_median = dataset[dataset['sex']=='Female']['hours-per-week'].median()\n",
        "    \n",
        "    fig = plt.figure()\n",
        "    # set plot position and title\n",
        "    ax1 = fig.add_subplot(221)\n",
        "    ax1.set_title('Mean of age per sex')\n",
        "    ax1.text(0, 30, round(age_m_mean, 2), fontsize=9, color='red', ha=\"center\")\n",
        "    ax1.text(1, 30, round(age_f_mean, 2), fontsize=9, color='red', ha=\"center\")\n",
        "    ax2 = fig.add_subplot(222)\n",
        "    ax2.set_title('Median of age per sex')\n",
        "    ax2.text(0, 30, round(age_m_median, 2), fontsize=9, color='red', ha=\"center\")\n",
        "    ax2.text(1, 30, round(age_f_median, 2), fontsize=9, color='red', ha=\"center\")\n",
        "    ax3 = fig.add_subplot(223)\n",
        "    ax3.set_title('Mean of hours-per-week per sex')\n",
        "    ax3.text(0, 30, round(hours_m_mean, 2), fontsize=9, color='red', ha=\"center\")\n",
        "    ax3.text(1, 30, round(hours_f_mean, 2), fontsize=9, color='red', ha=\"center\")\n",
        "    ax4 = fig.add_subplot(224)\n",
        "    ax4.set_title('Median of hours-per-week per sex')\n",
        "    ax4.text(0, 30, round(hours_m_median, 2), fontsize=9, color='red', ha=\"center\")\n",
        "    ax4.text(1, 30, round(hours_f_median, 2), fontsize=9, color='red', ha=\"center\")\n",
        "    \n",
        "    \n",
        "    # barplot default estimator is mean\n",
        "    sns.barplot(x=\"sex\", y=\"age\", data=dataset, ax=ax1)\n",
        "    # changing estimator to median\n",
        "    sns.barplot(x=\"sex\", y=\"age\", data=dataset,\n",
        "                estimator=np.median, ax=ax2)\n",
        "\n",
        "    sns.barplot(x=\"sex\", y=\"hours-per-week\", data=dataset, ax=ax3)\n",
        "    sns.barplot(x=\"sex\", y=\"hours-per-week\",\n",
        "                data=dataset, estimator=np.median, ax=ax4)\n",
        "\n",
        "    # adjust the space between subplots\n",
        "    # wspace/hspace : the amount of width/height reserved for blank space between subplots\n",
        "    plt.subplots_adjust(hspace=0.6, wspace=0.6)"
      ],
      "outputs": [],
      "execution_count": 6,
      "metadata": {}
    },
    {
      "cell_type": "code",
      "source": [
        "# plots based on original dataset\n",
        "visualize(df_original)"
      ],
      "outputs": [
        {
          "output_type": "display_data",
          "data": {
            "image/png": "[encoded data removed]",
            "text/plain": [
              "<Figure size 432x288 with 4 Axes>"
            ]
          },
          "metadata": {}
        }
      ],
      "execution_count": 7,
      "metadata": {}
    },
    {
      "cell_type": "code",
      "source": [
        "# plots based on cleaned dataset\n",
        "visualize(df_cleaned)"
      ],
      "outputs": [
        {
          "output_type": "display_data",
          "data": {
            "image/png": "[encoded data removed]",
            "text/plain": [
              "<Figure size 432x288 with 4 Axes>"
            ]
          },
          "metadata": {}
        }
      ],
      "execution_count": 8,
      "metadata": {}
    },
    {
      "cell_type": "markdown",
      "source": [
        "3. (b) Explain how mean and median of \"age\" per \"sex\" change when you remove the outliers."
      ],
      "metadata": {}
    },
    {
      "cell_type": "markdown",
      "source": [
        "<font color='blue'>\n",
        "Explanation: \n",
        "\n",
        "**For \"age\", compared to those values after removing outliers, the median value of male does not change, while the value increase by 1 for female. The mean value for male decrease by 0.12, while the mean value for female increase by 0.19. In general, the changes are quite small, which means this dataset is not so sensitive to outliers.**\n"
      ],
      "metadata": {}
    },
    {
      "cell_type": "markdown",
      "source": [
        "### Question 4 (Distribution):\n",
        "4. (a) Explore into distribution of \"age\" in the original data set. Does it have any well-known distribution (normal, uniform, skewed, ...)? If so, what are the main statistical features (mean, median, and mode) of this specific type of distribution."
      ],
      "metadata": {}
    },
    {
      "cell_type": "code",
      "source": [
        "# Unimodal (right skewed) Distribution\n",
        "sns.distplot(df_original['age']).text(80, 0.03, 'Right skewed Distribution', ha='center', fontsize=10)"
      ],
      "outputs": [
        {
          "output_type": "stream",
          "name": "stderr",
          "text": [
            "/anaconda3/lib/python3.6/site-packages/matplotlib/axes/_axes.py:6499: MatplotlibDeprecationWarning: \n",
            "The 'normed' kwarg was deprecated in Matplotlib 2.1 and will be removed in 3.1. Use 'density' instead.\n",
            "  alternative=\"'density'\", removal=\"3.1\")\n"
          ]
        },
        {
          "output_type": "execute_result",
          "execution_count": 9,
          "data": {
            "text/plain": [
              "Text(80, 0.03, 'Right skewed Distribution')"
            ]
          },
          "metadata": {}
        },
        {
          "output_type": "display_data",
          "data": {
            "image/png": "[encoded data removed]",
            "text/plain": [
              "<Figure size 432x288 with 1 Axes>"
            ]
          },
          "metadata": {}
        }
      ],
      "execution_count": 9,
      "metadata": {
        "scrolled": false
      }
    },
    {
      "cell_type": "code",
      "source": [
        "# main statistic features\n",
        "age_mean = df_original['age'].mean()\n",
        "age_media = df_original['age'].median()\n",
        "age_mode = df_original['age'].mode()[0]\n",
        "age_std = df_original['age'].std()\n",
        "\n",
        "print('Age Mean: {0:.1f}'.format(age_mean))\n",
        "print('Age Median: {0:.1f}'.format(age_media))\n",
        "print('Age Mode: {0:.1f}'.format(age_mode))\n",
        "print('Age Standard deviation: {0:.1f}'.format(age_std))"
      ],
      "outputs": [
        {
          "output_type": "stream",
          "name": "stdout",
          "text": [
            "Age Mean: 40.1\n",
            "Age Median: 39.0\n",
            "Age Mode: 37.0\n",
            "Age Standard deviation: 13.2\n"
          ]
        }
      ],
      "execution_count": 10,
      "metadata": {}
    },
    {
      "cell_type": "markdown",
      "source": [
        "<font color='blue'>\n",
        "Explanation:\n",
        "\n",
        "**The distribution is Unimodal (right skewed)**\n",
        "- Age Mean:  40.1 \n",
        "- Age Median:  39.0 \n",
        "- Age Mode:  37.0 \n",
        "- Age Standard deviation:  13.2"
      ],
      "metadata": {}
    },
    {
      "cell_type": "markdown",
      "source": [
        "4. (b) Explore into distribution of \"age\" and \"hours-per-week\" together. Explain how the data is distributed with respect to these two attributes in the original data sets (using Jointplot)?\n"
      ],
      "metadata": {}
    },
    {
      "cell_type": "code",
      "source": [
        "# joint plot with respect to \"age\" and \"hours-per-week\"\n",
        "sns.jointplot(x=\"age\", y=\"hours-per-week\", data=df_original, kind=\"hex\");  "
      ],
      "outputs": [
        {
          "output_type": "stream",
          "name": "stderr",
          "text": [
            "/anaconda3/lib/python3.6/site-packages/matplotlib/axes/_axes.py:6499: MatplotlibDeprecationWarning: \n",
            "The 'normed' kwarg was deprecated in Matplotlib 2.1 and will be removed in 3.1. Use 'density' instead.\n",
            "  alternative=\"'density'\", removal=\"3.1\")\n",
            "/anaconda3/lib/python3.6/site-packages/matplotlib/axes/_axes.py:6499: MatplotlibDeprecationWarning: \n",
            "The 'normed' kwarg was deprecated in Matplotlib 2.1 and will be removed in 3.1. Use 'density' instead.\n",
            "  alternative=\"'density'\", removal=\"3.1\")\n"
          ]
        },
        {
          "output_type": "display_data",
          "data": {
            "image/png": "[encoded data removed]",
            "text/plain": [
              "<Figure size 432x432 with 3 Axes>"
            ]
          },
          "metadata": {}
        }
      ],
      "execution_count": 11,
      "metadata": {}
    },
    {
      "cell_type": "markdown",
      "source": [
        "<font color='blue'>\n",
        "Explanation:\n",
        "\n**From age perspective, it is right skewed unimodal distribution. From hours-per-week perspective, it is the uniform distribution, which indicates that most values are concentrated on 40. According to the pearsonr correlation, we could argue these two attributes have seldom relation, since the majority work 40 hours per week no matter the age.** "
      ],
      "metadata": {}
    },
    {
      "cell_type": "markdown",
      "source": [
        "## Building models to perform predictions"
      ],
      "metadata": {}
    },
    {
      "cell_type": "markdown",
      "source": [
        "### Question 5 (Decision Tree):\n",
        "5. (a) Consider all the categorical attributes except label as descriptive features and label (income) as target feature. Make two decision trees (one based on Entropy and another based on Gini)."
      ],
      "metadata": {}
    },
    {
      "cell_type": "code",
      "source": [
        "# descriptive features\n",
        "X = df_original[['workclass','education', 'marital-status', \n",
        "                 'occupation', 'relationship', 'race', 'sex', 'native-country']] \n",
        "# target feature\n",
        "y = df_original[\"label\"]\n",
        "\n",
        "entropy_tree = DecisionTree(X.values.tolist(), X.columns.tolist(), y.values.tolist(), \"entropy\")\n",
        "entropy_tree.id3(0,0)\n",
        "\n",
        "gini_tree = DecisionTree(X.values.tolist(), X.columns.tolist(), y.values.tolist(), \"gini\")\n",
        "gini_tree.id3(0, 0)"
      ],
      "outputs": [],
      "execution_count": 12,
      "metadata": {}
    },
    {
      "cell_type": "markdown",
      "source": [
        "5. (b) What are the best attributes (based on Gini and Entropy) for splitting the trees in the third round of ID3?   "
      ],
      "metadata": {}
    },
    {
      "cell_type": "code",
      "source": [
        "# visualize decision tree\n",
        "entropy_tree.print_visualTree() # 'Education' are the best attribute"
      ],
      "outputs": [],
      "execution_count": 13,
      "metadata": {}
    },
    {
      "cell_type": "code",
      "source": [
        "# visualize decision tree\n",
        "gini_tree.print_visualTree() # 'Education' are the best attribute"
      ],
      "outputs": [],
      "execution_count": 14,
      "metadata": {}
    },
    {
      "cell_type": "markdown",
      "source": [
        "<font color='blue'>\n",
        "Explanation:\n",
        "\n",
        "Entropy Decision Tree best attribute on round 3:  **Education**\n",
        "\nGini Decision Tree best attribute on round 3:  **Education**"
      ],
      "metadata": {}
    },
    {
      "cell_type": "markdown",
      "source": [
        "5. (c) Prune the tree which is made based on Entropy by 7000 as minimum number of samples. Identify which value of the first node/attribute is chosen to be split in the second round of ID3 and explain why?"
      ],
      "metadata": {}
    },
    {
      "cell_type": "code",
      "source": [
        "# prune decision tree with minimum 7000 samples\n",
        "entropy_tree_7k = DecisionTree(X.values.tolist(), X.columns.tolist(), y.values.tolist(), \"entropy\")\n",
        "entropy_tree_7k.id3(0,7000)\n",
        "entropy_tree_7k.print_visualTree() # 'husband' is chosen to be split"
      ],
      "outputs": [],
      "execution_count": 15,
      "metadata": {}
    },
    {
      "cell_type": "markdown",
      "source": [
        "<font color='blue'>\n",
        "Explanation:\n",
        "\n",
        "The first node chosen to be split in second round of ID3: **Husband**. \n",
        "\n**Because, in this round, \"husband\" has the lowest entropy, which means this attribute has the largest IG(information gain), and that's why it is chosen in this round**"
      ],
      "metadata": {}
    },
    {
      "cell_type": "markdown",
      "source": [
        "### Question 6 (Regression):\n",
        "\n6. (a) Create two sets of independent variables (1) and (2)"
      ],
      "metadata": {}
    },
    {
      "cell_type": "code",
      "source": [
        "# target feature\n",
        "target = df_original[[\"label\"]]\n",
        "# two sets of independent variables\n",
        "df_set1 = df_original[['age', 'marital-status', 'sex']]\n",
        "df_set2 = df_original[['workclass', 'education-num', 'hours-per-week']]\n",
        "# all descriptive features\n",
        "df_init = df_original.iloc[:, :-1] # or df_init = df_original.drop('lable', axis=1)"
      ],
      "outputs": [],
      "execution_count": 16,
      "metadata": {}
    },
    {
      "cell_type": "markdown",
      "source": [
        "6. (b) Which attributes are suitable as an input for the logistic regression and which need to be modified first? Why?"
      ],
      "metadata": {}
    },
    {
      "cell_type": "markdown",
      "source": [
        "<font color='blue'>\n",
        "Explanation: \n",
        "\n**Numeric features, such as \"age\", \"education-num\", \"hours-per-week\" are suitalbe as an input for logistic regression, however, categorical features like \"marital-status\", \"sex\", \"workclass\" are not appropriate. Because regression algorithm is based on numerical calculation, which requires categorical to be transformed into numerics first. **"
      ],
      "metadata": {}
    },
    {
      "cell_type": "code",
      "source": [
        "# transform categorical features to numeric features\n",
        "# use one hot encoding\n",
        "df_set1 = pd.get_dummies(df_set1, drop_first=True)\n",
        "df_set2 = pd.get_dummies(df_set2, drop_first=True)\n",
        "df_init = pd.get_dummies(df_init, drop_first=True)\n",
        "target = pd.get_dummies(target, drop_first=True)\n",
        "target = np.array(target).reshape(-1,)"
      ],
      "outputs": [],
      "execution_count": 17,
      "metadata": {}
    },
    {
      "cell_type": "markdown",
      "source": [
        "6. (c) Train three logistic regression classifiers based on the two created data sets as well as the initial data set:"
      ],
      "metadata": {}
    },
    {
      "cell_type": "code",
      "source": [
        "# LogisticRegression from sklearn library\n",
        "# For small datasets, ‘liblinear’ is a good choice\n",
        "# for binary problem, choose \"ovr\" (one-versus-reset)\n",
        "\n",
        "classifier1 = LogisticRegression( solver = 'liblinear', multi_class = 'ovr')\n",
        "classifier1.fit(df_set1, target)\n",
        "\n",
        "classifier2 = LogisticRegression( solver = 'liblinear', multi_class = 'ovr')\n",
        "classifier2.fit(df_set2, target)\n",
        "\n",
        "classifier3 = LogisticRegression( solver = 'liblinear', multi_class = 'ovr')\n",
        "classifier3.fit(df_init, target)\n",
        "\n",
        "print('All classifiers are using default parameters: ')\n",
        "print(classifier3)"
      ],
      "outputs": [
        {
          "output_type": "stream",
          "name": "stdout",
          "text": [
            "All classifiers are using default parameters: \n",
            "LogisticRegression(C=1.0, class_weight=None, dual=False, fit_intercept=True,\n",
            "          intercept_scaling=1, max_iter=100, multi_class='ovr', n_jobs=1,\n",
            "          penalty='l2', random_state=None, solver='liblinear', tol=0.0001,\n",
            "          verbose=0, warm_start=False)\n"
          ]
        }
      ],
      "execution_count": 18,
      "metadata": {}
    },
    {
      "cell_type": "markdown",
      "source": [
        "6. (d) Interpret the three resulting models and compare them. Which model do you recommend and why?"
      ],
      "metadata": {}
    },
    {
      "cell_type": "code",
      "source": [
        "# get predicted label\n",
        "clf1_pred = classifier1.predict(df_set1)\n",
        "clf2_pred = classifier2.predict(df_set2)\n",
        "clf3_pred = classifier3.predict(df_init)\n",
        "\n",
        "# calculate metrics (accuracy, precision, recall, f1)\n",
        "clf1_metric = [accuracy_score(target, clf1_pred), precision_score(target, clf1_pred),\n",
        "               recall_score(target, clf1_pred),f1_score(target, clf1_pred)]\n",
        "clf1_df = pd.DataFrame(clf1_metric, index=['Accuracy', 'Precision', 'Recall', 'F1'], \n",
        "                       columns=['Classifier based on datasets(1)'])\n",
        "\n",
        "clf2_metric = [accuracy_score(target, clf2_pred), precision_score(target, clf2_pred),\n",
        "               recall_score(target, clf2_pred),f1_score(target, clf2_pred)]\n",
        "clf2_df = pd.DataFrame(clf2_metric, index=['Accuracy', 'Precision', 'Recall', 'F1'], \n",
        "                       columns=['Classifier based on datasets(2)'])\n",
        "\n",
        "clf3_metric = [accuracy_score(target, clf3_pred), precision_score(target, clf3_pred),\n",
        "               recall_score(target, clf3_pred),f1_score(target, clf3_pred)]\n",
        "clf3_df = pd.DataFrame(clf3_metric, index=['Accuracy', 'Precision', 'Recall', 'F1'], \n",
        "                       columns=['Classifier based on initial datasets'])\n",
        "\npd.concat([clf1_df, clf2_df, clf3_df], axis=1)"
      ],
      "outputs": [
        {
          "output_type": "execute_result",
          "execution_count": 19,
          "data": {
            "text/html": [
              "<div>\n",
              "<style scoped>\n",
              "    .dataframe tbody tr th:only-of-type {\n",
              "        vertical-align: middle;\n",
              "    }\n",
              "\n",
              "    .dataframe tbody tr th {\n",
              "        vertical-align: top;\n",
              "    }\n",
              "\n",
              "    .dataframe thead th {\n",
              "        text-align: right;\n",
              "    }\n",
              "</style>\n",
              "<table border=\"1\" class=\"dataframe\">\n",
              "  <thead>\n",
              "    <tr style=\"text-align: right;\">\n",
              "      <th></th>\n",
              "      <th>Classifier based on datasets(1)</th>\n",
              "      <th>Classifier based on datasets(2)</th>\n",
              "      <th>Classifier based on initial datasets</th>\n",
              "    </tr>\n",
              "  </thead>\n",
              "  <tbody>\n",
              "    <tr>\n",
              "      <th>Accuracy</th>\n",
              "      <td>0.750238</td>\n",
              "      <td>0.701698</td>\n",
              "      <td>0.807802</td>\n",
              "    </tr>\n",
              "    <tr>\n",
              "      <th>Precision</th>\n",
              "      <td>0.670942</td>\n",
              "      <td>0.679954</td>\n",
              "      <td>0.770078</td>\n",
              "    </tr>\n",
              "    <tr>\n",
              "      <th>Recall</th>\n",
              "      <td>0.847213</td>\n",
              "      <td>0.606938</td>\n",
              "      <td>0.802194</td>\n",
              "    </tr>\n",
              "    <tr>\n",
              "      <th>F1</th>\n",
              "      <td>0.748845</td>\n",
              "      <td>0.641375</td>\n",
              "      <td>0.785808</td>\n",
              "    </tr>\n",
              "  </tbody>\n",
              "</table>\n",
              "</div>"
            ],
            "text/plain": [
              "           Classifier based on datasets(1)  Classifier based on datasets(2)  \\\n",
              "Accuracy                          0.750238                         0.701698   \n",
              "Precision                         0.670942                         0.679954   \n",
              "Recall                            0.847213                         0.606938   \n",
              "F1                                0.748845                         0.641375   \n",
              "\n",
              "           Classifier based on initial datasets  \n",
              "Accuracy                               0.807802  \n",
              "Precision                              0.770078  \n",
              "Recall                                 0.802194  \n",
              "F1                                     0.785808  "
            ]
          },
          "metadata": {}
        }
      ],
      "execution_count": 19,
      "metadata": {}
    },
    {
      "cell_type": "markdown",
      "source": [
        "<font color='blue'>\n",
        "Explanation:\n",
        "\n**According to the metrics (Accuracy, Precision, Recall, F1), except for the recall score, classifier3 obtain the best results for the other metrics. Therefore, we would like to choose model 3, which is trained on original dataset.**"
      ],
      "metadata": {}
    },
    {
      "cell_type": "markdown",
      "source": [
        "### Question 7 (Neural Networks)"
      ],
      "metadata": {}
    },
    {
      "cell_type": "markdown",
      "source": [
        "7. (a) What are the inputs of your network?"
      ],
      "metadata": {}
    },
    {
      "cell_type": "markdown",
      "source": [
        "<font color='blue'>\n",
        "Explanation:\n",
        "\n**All the descriptive features are the inputs of the network.**"
      ],
      "metadata": {}
    },
    {
      "cell_type": "markdown",
      "source": [
        "7. (b) What are the possible number of input pattern for your network (just including categorical attributes)?"
      ],
      "metadata": {}
    },
    {
      "cell_type": "markdown",
      "source": [
        "<font color='blue'>\n",
        "Explanation:\n",
        "\n",
        "**Input patterns**\n",
        "- just include all nuemric features\n",
        "- just include partial numeric features\n",
        "- just include all categorical features\n",
        "- just include partial categorical features\n",
        "- include all numeric and all categorical features\n",
        "- include partial nemeric and partial categorical features"
      ],
      "metadata": {}
    },
    {
      "cell_type": "markdown",
      "source": [
        "7. (c.i) First, with default parameters and return the parameters."
      ],
      "metadata": {}
    },
    {
      "cell_type": "code",
      "source": [
        "# define target feature and desciptive features\n",
        "target = pd.get_dummies(df_original['label'], drop_first=True)\n",
        "target = np.array(target).reshape(-1,)\n",
        "features = pd.get_dummies(df_original.drop('label', axis=1), drop_first=True)\n",
        "\n",
        "# try to keep the results consistent\n",
        "np.random.seed(0)\n",
        "\n",
        "# use Multi-layer Perceptron classifier\n",
        "mlp = MLPClassifier() \n",
        "mlp.fit(features, target)  \n",
        "\n",
        "print('Default parameters:')\n",
        "print(mlp)"
      ],
      "outputs": [
        {
          "output_type": "stream",
          "name": "stdout",
          "text": [
            "Default parameters:\n",
            "MLPClassifier(activation='relu', alpha=0.0001, batch_size='auto', beta_1=0.9,\n",
            "       beta_2=0.999, early_stopping=False, epsilon=1e-08,\n",
            "       hidden_layer_sizes=(100,), learning_rate='constant',\n",
            "       learning_rate_init=0.001, max_iter=200, momentum=0.9,\n",
            "       nesterovs_momentum=True, power_t=0.5, random_state=None,\n",
            "       shuffle=True, solver='adam', tol=0.0001, validation_fraction=0.1,\n",
            "       verbose=False, warm_start=False)\n"
          ]
        }
      ],
      "execution_count": 20,
      "metadata": {}
    },
    {
      "cell_type": "markdown",
      "source": [
        "7. (c.ii) Second, try to find the optimized number of hidden layers and nodes. (Start with default number and then at least go with one number above and one number below the default) \n"
      ],
      "metadata": {}
    },
    {
      "cell_type": "code",
      "source": [
        "# try to keep the results consistent\n",
        "np.random.seed(0)\n",
        "\n",
        "# lower number of hidden layers\n",
        "mlp_low = MLPClassifier(hidden_layer_sizes=(50)) \n",
        "mlp_low.fit(features, target)\n",
        "\n",
        "# higher number of hidden layers\n",
        "mlp_high = MLPClassifier(hidden_layer_sizes=(50, 50, 50)) \n",
        "mlp_high.fit(features, target) \n",
        "\n\n",
        "low_pred = mlp_low.predict(features)\n",
        "default_pred = mlp.predict(features)\n",
        "high_pred = mlp_high.predict(features)\n",
        "\n",
        "# calculate all metrics (Accuracy, Precision, Recall, F1)\n",
        "low_metric = [accuracy_score(target, low_pred), precision_score(target, low_pred),\n",
        "              recall_score(target, low_pred), f1_score(target, low_pred)]\n",
        "low_df = pd.DataFrame(low_metric, index=['Accuracy', 'Precision', 'Recall', 'F1'], \n",
        "                       columns=['One Layer (50 nodes)'])\n",
        "default_metric = [accuracy_score(target, default_pred), precision_score(target, default_pred),\n",
        "              recall_score(target, default_pred), f1_score(target, default_pred)]\n",
        "default_df = pd.DataFrame(default_metric, index=['Accuracy', 'Precision', 'Recall', 'F1'], \n",
        "                       columns=['Default One Layer (100 nodes)'])\n",
        "high_metric = [accuracy_score(target, high_pred), precision_score(target, high_pred),\n",
        "              recall_score(target, high_pred), f1_score(target, high_pred)]\n",
        "high_df = pd.DataFrame(high_metric, index=['Accuracy', 'Precision', 'Recall', 'F1'], \n",
        "                       columns=['Three Layers (50 nodes)'])\n",
        "pd.concat([low_df, default_df, high_df], axis=1)"
      ],
      "outputs": [
        {
          "output_type": "execute_result",
          "execution_count": 21,
          "data": {
            "text/html": [
              "<div>\n",
              "<style scoped>\n",
              "    .dataframe tbody tr th:only-of-type {\n",
              "        vertical-align: middle;\n",
              "    }\n",
              "\n",
              "    .dataframe tbody tr th {\n",
              "        vertical-align: top;\n",
              "    }\n",
              "\n",
              "    .dataframe thead th {\n",
              "        text-align: right;\n",
              "    }\n",
              "</style>\n",
              "<table border=\"1\" class=\"dataframe\">\n",
              "  <thead>\n",
              "    <tr style=\"text-align: right;\">\n",
              "      <th></th>\n",
              "      <th>One Layer (50 nodes)</th>\n",
              "      <th>Default One Layer (100 nodes)</th>\n",
              "      <th>Three Layers (50 nodes)</th>\n",
              "    </tr>\n",
              "  </thead>\n",
              "  <tbody>\n",
              "    <tr>\n",
              "      <th>Accuracy</th>\n",
              "      <td>0.806121</td>\n",
              "      <td>0.813239</td>\n",
              "      <td>0.810325</td>\n",
              "    </tr>\n",
              "    <tr>\n",
              "      <th>Precision</th>\n",
              "      <td>0.794094</td>\n",
              "      <td>0.779057</td>\n",
              "      <td>0.736195</td>\n",
              "    </tr>\n",
              "    <tr>\n",
              "      <th>Recall</th>\n",
              "      <td>0.754496</td>\n",
              "      <td>0.802704</td>\n",
              "      <td>0.885856</td>\n",
              "    </tr>\n",
              "    <tr>\n",
              "      <th>F1</th>\n",
              "      <td>0.773789</td>\n",
              "      <td>0.790704</td>\n",
              "      <td>0.804121</td>\n",
              "    </tr>\n",
              "  </tbody>\n",
              "</table>\n",
              "</div>"
            ],
            "text/plain": [
              "           One Layer (50 nodes)  Default One Layer (100 nodes)  \\\n",
              "Accuracy               0.806121                       0.813239   \n",
              "Precision              0.794094                       0.779057   \n",
              "Recall                 0.754496                       0.802704   \n",
              "F1                     0.773789                       0.790704   \n",
              "\n",
              "           Three Layers (50 nodes)  \n",
              "Accuracy                  0.810325  \n",
              "Precision                 0.736195  \n",
              "Recall                    0.885856  \n",
              "F1                        0.804121  "
            ]
          },
          "metadata": {}
        }
      ],
      "execution_count": 21,
      "metadata": {}
    },
    {
      "cell_type": "code",
      "source": [
        "# Assume three layers should be enough to get desirable results\n",
        "def optimize_params(features, target):\n",
        "    \n",
        "    \"\"\"\n",
        "        params: \n",
        "        ------------\n",
        "        features: descriptive features for training multiple perceptron layer classifier\n",
        "        target: target feature of dataset\n",
        "        \n",
        "        returns:\n",
        "        -------------\n",
        "        best parameter for layer size and node size for each layer\n",
        "    \"\"\"\n",
        "    # try to keep the results consistent\n",
        "    np.random.seed(0)\n",
        "    params = {}\n",
        "    # test for one layer\n",
        "    l1 = [10, 30, 50, 70, 100]\n",
        "    for size in l1:\n",
        "        clf = MLPClassifier(hidden_layer_sizes=size)\n",
        "        clf.fit(features, target)\n",
        "        params[size] = clf.score(features, target)\n",
        "\n",
        "    # test for two layers    \n",
        "    l1 = l2 = [20, 50, 100]\n",
        "    two_layer_size = [(x, y) for x in l1 for y in l2]\n",
        "    for size in two_layer_size:\n",
        "        clf = MLPClassifier(hidden_layer_sizes=size)\n",
        "        clf.fit(features, target)\n",
        "        params[size] = clf.score(features, target)\n",
        "    \n",
        "    # test for three layers\n",
        "    l1 = l2 = l3 = [20, 50, 100]\n",
        "    three_layer_size = [(x, y, z) for x in l1 for y in l2 for z in l3]\n",
        "    \n",
        "    for size in three_layer_size:\n",
        "        clf = MLPClassifier(hidden_layer_sizes=size)\n",
        "        clf.fit(features, target)\n",
        "        params[size] = clf.score(features, target)\n",
        "        \n",
        "    best_param, best_score = sorted(params.items(), key=lambda x:x[1], reverse=True)[0]\n",
        "    print('best param: {0}, best accuracy score: {1}'.format(best_param, best_score))"
      ],
      "outputs": [],
      "execution_count": 22,
      "metadata": {}
    },
    {
      "cell_type": "code",
      "source": [
        "%%time\n",
        "# CPU running time: around 5 min with i7 procesor\n",
        "# using np.random.seed(0) to keep results consistent --> make sure the initial weights are the same\n",
        "# BUT three layer neural network always works better!\n",
        "# last tested results: best param: (100, 100, 50), best accuracy score: 0.816\n",
        "optimize_params(features, target)"
      ],
      "outputs": [
        {
          "output_type": "stream",
          "name": "stdout",
          "text": [
            "best param: (100, 100, 50), best accuracy score: 0.8158174990191133\n",
            "CPU times: user 5min 23s, sys: 4.55 s, total: 5min 28s\n",
            "Wall time: 1min 23s\n"
          ]
        }
      ],
      "execution_count": 23,
      "metadata": {}
    },
    {
      "cell_type": "markdown",
      "source": [
        "7. (c.iii) Third, try to train your model with one linear activation function and one non linear activation function, name the functions and explain if there is any difference in your networks and why? (you can use evaluation metrics to show which activation function works better for this data set)\n"
      ],
      "metadata": {}
    },
    {
      "cell_type": "code",
      "source": [
        "# try to keep the results consistent\n",
        "np.random.seed(0)\n",
        "\n",
        "# linear activation function\n",
        "mlp_lin = MLPClassifier(activation='identity')\n",
        "mlp_lin.fit(features, target)\n",
        "\n",
        "#  non linear activation function\n",
        "mlp_log = MLPClassifier(activation='logistic')\n",
        "mlp_log.fit(features, target)\n",
        "\n\n",
        "mlp_lin = mlp_lin.predict(features)\n",
        "mlp_log = mlp_log.predict(features)\n",
        "\n",
        "lin_metric = [accuracy_score(target, mlp_lin), precision_score(target, mlp_lin),\n",
        "              recall_score(target, mlp_lin), f1_score(target, mlp_lin)]\n",
        "lin_df = pd.DataFrame(default_metric, index=['Accuracy', 'Precision', 'Recall', 'F1'], \n",
        "                       columns=['Linear Activation'])\n",
        "log_metric = [accuracy_score(target, mlp_log), precision_score(target, mlp_log),\n",
        "              recall_score(target, mlp_log), f1_score(target, mlp_log)]\n",
        "log_df = pd.DataFrame(high_metric, index=['Accuracy', 'Precision', 'Recall', 'F1'], \n",
        "                       columns=['Non Linear Activation'])\n",
        "\npd.concat([lin_df, log_df], axis=1)"
      ],
      "outputs": [
        {
          "output_type": "execute_result",
          "execution_count": 24,
          "data": {
            "text/html": [
              "<div>\n",
              "<style scoped>\n",
              "    .dataframe tbody tr th:only-of-type {\n",
              "        vertical-align: middle;\n",
              "    }\n",
              "\n",
              "    .dataframe tbody tr th {\n",
              "        vertical-align: top;\n",
              "    }\n",
              "\n",
              "    .dataframe thead th {\n",
              "        text-align: right;\n",
              "    }\n",
              "</style>\n",
              "<table border=\"1\" class=\"dataframe\">\n",
              "  <thead>\n",
              "    <tr style=\"text-align: right;\">\n",
              "      <th></th>\n",
              "      <th>Linear Activation</th>\n",
              "      <th>Non Linear Activation</th>\n",
              "    </tr>\n",
              "  </thead>\n",
              "  <tbody>\n",
              "    <tr>\n",
              "      <th>Accuracy</th>\n",
              "      <td>0.813239</td>\n",
              "      <td>0.810325</td>\n",
              "    </tr>\n",
              "    <tr>\n",
              "      <th>Precision</th>\n",
              "      <td>0.779057</td>\n",
              "      <td>0.736195</td>\n",
              "    </tr>\n",
              "    <tr>\n",
              "      <th>Recall</th>\n",
              "      <td>0.802704</td>\n",
              "      <td>0.885856</td>\n",
              "    </tr>\n",
              "    <tr>\n",
              "      <th>F1</th>\n",
              "      <td>0.790704</td>\n",
              "      <td>0.804121</td>\n",
              "    </tr>\n",
              "  </tbody>\n",
              "</table>\n",
              "</div>"
            ],
            "text/plain": [
              "           Linear Activation  Non Linear Activation\n",
              "Accuracy            0.813239               0.810325\n",
              "Precision           0.779057               0.736195\n",
              "Recall              0.802704               0.885856\n",
              "F1                  0.790704               0.804121"
            ]
          },
          "metadata": {}
        }
      ],
      "execution_count": 24,
      "metadata": {}
    },
    {
      "cell_type": "markdown",
      "source": [
        "<font color='blue'>\n",
        "Parameters -- except for activation function, others using default parameters\n",
        "\n",
        "linear activation function: \"identity\" function, returns f(x) = x\n",
        "\n",
        "**accuracy for linear model: 0.81**\n",
        "\n",
        "**F1 score for linear model: 0.79**\n",
        "\n",
        "non_linear activation function: \"logistic\" function, returns f(x) = 1 / (1 + exp(-x))\n",
        "\n",
        "**accuracy for logistic model: 0.81**\n",
        "\n**F1 score for logistic model: 0.80**"
      ],
      "metadata": {}
    },
    {
      "cell_type": "markdown",
      "source": [
        "<font color='blue'>\n",
        "Explanation:\n",
        "\n",
        "**Actually, for this dataset, there is almost no difference with linear or non-linear activation function. **\n",
        "\n**If only linear activation function is used, the output will be the linear combination of inputs no matter how many layers are used. However, with non-linear function, there is non-linearity for the output with respect to the input. **"
      ],
      "metadata": {}
    },
    {
      "cell_type": "markdown",
      "source": [
        "7. (c.iv) Which model do you recommend to be used as your classifier and why? (with respect to the number of hidden layer and activation function (linear or nonlinear))"
      ],
      "metadata": {}
    },
    {
      "cell_type": "markdown",
      "source": [
        "<font color='blue'>\n",
        "Explanation:\n",
        "\n**Based on the experiments, with slightly advantage, 3-layer with size (100, 100, 50), with non-linear activation function for the neural network is recommended.**"
      ],
      "metadata": {}
    },
    {
      "cell_type": "markdown",
      "source": [
        "## Analysing the quality of the prediction models"
      ],
      "metadata": {}
    },
    {
      "cell_type": "markdown",
      "source": [
        "### Question 8 (Evaluation metrics)"
      ],
      "metadata": {}
    },
    {
      "cell_type": "markdown",
      "source": [
        "8. (a) Calculate the following metrics for the model 7. (c, i) and the logistic regression with all the initial attributes in question 6 (c):"
      ],
      "metadata": {}
    },
    {
      "cell_type": "markdown",
      "source": [
        "- Confusion matrices on the training data"
      ],
      "metadata": {}
    },
    {
      "cell_type": "code",
      "source": [
        "train_target = pd.get_dummies(df_original['label'], drop_first=True)\n",
        "train_target = np.array(train_target).reshape(-1,)\n",
        "train_features = pd.get_dummies(df_original.drop('label', axis=1), drop_first=True)\n",
        "\n",
        "# read data for validation\n",
        "df_test = pd.read_csv('./data-set-assignment1/adult.test-3.csv')\n",
        "test_target = pd.get_dummies(df_test['label'], drop_first=True)\n",
        "test_target = np.array(test_target).reshape(-1,)\n",
        "test_features = pd.get_dummies(df_test.drop('label', axis=1), drop_first=True)"
      ],
      "outputs": [],
      "execution_count": 25,
      "metadata": {}
    },
    {
      "cell_type": "code",
      "source": [
        "# confusion matrices on the training data\n",
        "print('Confusino matrices on training data\\n')\n",
        "print('Logistic regression:\\n', confusion_matrix(\n",
        "    train_target, classifier3.predict(train_features)))\n",
        "print('\\nDefault neural network:\\n',\n",
        "      confusion_matrix(train_target, mlp.predict(train_features)))"
      ],
      "outputs": [
        {
          "output_type": "stream",
          "name": "stdout",
          "text": [
            "Confusino matrices on training data\n",
            "\n",
            "Logistic regression:\n",
            " [[8122 1878]\n",
            " [1551 6290]]\n",
            "\n",
            "Default neural network:\n",
            " [[8215 1785]\n",
            " [1547 6294]]\n"
          ]
        }
      ],
      "execution_count": 26,
      "metadata": {}
    },
    {
      "cell_type": "markdown",
      "source": [
        "- Confusion matrices on the test data"
      ],
      "metadata": {}
    },
    {
      "cell_type": "code",
      "source": [
        "# confusion matrices on the test data\n",
        "print('Confusion matricies on test data\\n')\n",
        "log_conf = confusion_matrix(test_target, classifier3.predict(test_features))\n",
        "print('Logistic regression Model:\\n', log_conf)\n",
        "nn_conf = confusion_matrix(test_target, mlp.predict(test_features))\n",
        "print('\\nDefault neural network Model:\\n', nn_conf)"
      ],
      "outputs": [
        {
          "output_type": "stream",
          "name": "stdout",
          "text": [
            "Confusion matricies on test data\n",
            "\n",
            "Logistic regression Model:\n",
            " [[10075  2360]\n",
            " [  799  3047]]\n",
            "\n",
            "Default neural network Model:\n",
            " [[10178  2257]\n",
            " [  797  3049]]\n"
          ]
        }
      ],
      "execution_count": 27,
      "metadata": {
        "scrolled": true
      }
    },
    {
      "cell_type": "markdown",
      "source": [
        "- Precision, recall and F1-scores on the test data"
      ],
      "metadata": {}
    },
    {
      "cell_type": "code",
      "source": [
        "# precision, recall and F1-scores on the test data\n",
        "# precision = TP/(TP+FP)\n",
        "# recall = TP/(TP+FN)\n",
        "# f1 = 2*precision*recall/(precision+recall)\n",
        "\n\n",
        "log_target = classifier3.predict(test_features)\n",
        "nn_target = mlp.predict(test_features)\n",
        "\n",
        "log_metric = [accuracy_score(test_target, log_target), precision_score(test_target, log_target),\n",
        "              recall_score(test_target, log_target), f1_score(test_target, log_target)]\n",
        "l_df = pd.DataFrame(log_metric, index=['Accuracy', 'Precision', 'Recall', 'F1'], \n",
        "                       columns=['Logistic Regression'])\n",
        "nn_metric = [accuracy_score(test_target, nn_target), precision_score(test_target, nn_target),\n",
        "              recall_score(test_target, nn_target), f1_score(test_target, nn_target)]\n",
        "nn_df = pd.DataFrame(nn_metric, index=['Accuracy', 'Precision', 'Recall', 'F1'], \n",
        "                       columns=['Neural Network'])\n",
        "\npd.concat([l_df, nn_df], axis=1)"
      ],
      "outputs": [
        {
          "output_type": "execute_result",
          "execution_count": 28,
          "data": {
            "text/html": [
              "<div>\n",
              "<style scoped>\n",
              "    .dataframe tbody tr th:only-of-type {\n",
              "        vertical-align: middle;\n",
              "    }\n",
              "\n",
              "    .dataframe tbody tr th {\n",
              "        vertical-align: top;\n",
              "    }\n",
              "\n",
              "    .dataframe thead th {\n",
              "        text-align: right;\n",
              "    }\n",
              "</style>\n",
              "<table border=\"1\" class=\"dataframe\">\n",
              "  <thead>\n",
              "    <tr style=\"text-align: right;\">\n",
              "      <th></th>\n",
              "      <th>Logistic Regression</th>\n",
              "      <th>Neural Network</th>\n",
              "    </tr>\n",
              "  </thead>\n",
              "  <tbody>\n",
              "    <tr>\n",
              "      <th>Accuracy</th>\n",
              "      <td>0.805970</td>\n",
              "      <td>0.812419</td>\n",
              "    </tr>\n",
              "    <tr>\n",
              "      <th>Precision</th>\n",
              "      <td>0.563529</td>\n",
              "      <td>0.574632</td>\n",
              "    </tr>\n",
              "    <tr>\n",
              "      <th>Recall</th>\n",
              "      <td>0.792252</td>\n",
              "      <td>0.792772</td>\n",
              "    </tr>\n",
              "    <tr>\n",
              "      <th>F1</th>\n",
              "      <td>0.658597</td>\n",
              "      <td>0.666302</td>\n",
              "    </tr>\n",
              "  </tbody>\n",
              "</table>\n",
              "</div>"
            ],
            "text/plain": [
              "           Logistic Regression  Neural Network\n",
              "Accuracy              0.805970        0.812419\n",
              "Precision             0.563529        0.574632\n",
              "Recall                0.792252        0.792772\n",
              "F1                    0.658597        0.666302"
            ]
          },
          "metadata": {}
        }
      ],
      "execution_count": 28,
      "metadata": {}
    },
    {
      "cell_type": "markdown",
      "source": [
        "- Accuracy scores on training and test data"
      ],
      "metadata": {}
    },
    {
      "cell_type": "code",
      "source": [
        "# metrics for logistic regression on training data and testing data\n",
        "log_train_metric = [accuracy_score(train_target, classifier3.predict(train_features)),\n",
        "                    f1_score(train_target, classifier3.predict(train_features))]\n",
        "df_log_train = pd.DataFrame(log_train_metric, index=['Accuracy', 'F1'], columns=['Logistic(training data)'])\n",
        "log_test_metric = [accuracy_score(test_target, log_target),\n",
        "                    f1_score(test_target, log_target)]\n",
        "df_log_test = pd.DataFrame(log_test_metric, index=['Accuracy', 'F1'], columns=['Logistic(testing data)'])\n",
        "\n",
        "# metrics for neural network on training data and testing data\n",
        "nn_train_metric = [accuracy_score(train_target, mlp.predict(train_features)),\n",
        "                    f1_score(train_target, mlp.predict(train_features))]\n",
        "df_nn_train = pd.DataFrame(nn_train_metric, index=['Accuracy', 'F1'], columns=['Neural Network(training data)'])\n",
        "nn_test_metric = [accuracy_score(test_target, nn_target),\n",
        "                    f1_score(test_target, nn_target)]\n",
        "df_nn_test = pd.DataFrame(nn_test_metric, index=['Accuracy', 'F1'], columns=['Neural Network(testing data)'])\n",
        "\n\npd.concat([df_log_train, df_log_test, df_nn_train, df_nn_test], axis=1)"
      ],
      "outputs": [
        {
          "output_type": "execute_result",
          "execution_count": 29,
          "data": {
            "text/html": [
              "<div>\n",
              "<style scoped>\n",
              "    .dataframe tbody tr th:only-of-type {\n",
              "        vertical-align: middle;\n",
              "    }\n",
              "\n",
              "    .dataframe tbody tr th {\n",
              "        vertical-align: top;\n",
              "    }\n",
              "\n",
              "    .dataframe thead th {\n",
              "        text-align: right;\n",
              "    }\n",
              "</style>\n",
              "<table border=\"1\" class=\"dataframe\">\n",
              "  <thead>\n",
              "    <tr style=\"text-align: right;\">\n",
              "      <th></th>\n",
              "      <th>Logistic(training data)</th>\n",
              "      <th>Logistic(testing data)</th>\n",
              "      <th>Neural Network(training data)</th>\n",
              "      <th>Neural Network(testing data)</th>\n",
              "    </tr>\n",
              "  </thead>\n",
              "  <tbody>\n",
              "    <tr>\n",
              "      <th>Accuracy</th>\n",
              "      <td>0.807802</td>\n",
              "      <td>0.805970</td>\n",
              "      <td>0.813239</td>\n",
              "      <td>0.812419</td>\n",
              "    </tr>\n",
              "    <tr>\n",
              "      <th>F1</th>\n",
              "      <td>0.785808</td>\n",
              "      <td>0.658597</td>\n",
              "      <td>0.790704</td>\n",
              "      <td>0.666302</td>\n",
              "    </tr>\n",
              "  </tbody>\n",
              "</table>\n",
              "</div>"
            ],
            "text/plain": [
              "          Logistic(training data)  Logistic(testing data)  \\\n",
              "Accuracy                 0.807802                0.805970   \n",
              "F1                       0.785808                0.658597   \n",
              "\n",
              "          Neural Network(training data)  Neural Network(testing data)  \n",
              "Accuracy                       0.813239                      0.812419  \n",
              "F1                             0.790704                      0.666302  "
            ]
          },
          "metadata": {}
        }
      ],
      "execution_count": 29,
      "metadata": {}
    },
    {
      "cell_type": "markdown",
      "source": [
        "In order to turn numbers into insights, please comment on your findings. Motivate the answers to the following questions using the metrics and the findings in the questions 1 through 7."
      ],
      "metadata": {}
    },
    {
      "cell_type": "markdown",
      "source": [
        "8. (b) What is, in your opinion, the best model? Motivate your answer with the correct performance metrics."
      ],
      "metadata": {}
    },
    {
      "cell_type": "markdown",
      "source": [
        "<font color='blue'>\n",
        "Explanation:\n",
        "\n**Higher F1 score and higher accuracy socre. First, we need to make sure the accuracy for the model is high, otherwise, it wouldn't be the right model. Besides, F1 score is the harmonic mean of precision and recall, which is a better balanced measurement**"
      ],
      "metadata": {}
    },
    {
      "cell_type": "markdown",
      "source": [
        "8. (c) Does any model suffer from underfitting or overfitting? Motivate your answer with the correct performance metrics."
      ],
      "metadata": {}
    },
    {
      "cell_type": "markdown",
      "source": [
        "<font color='blue'>\n",
        "Explanation:\n",
        "\n**Both logistic regression model and Neural network model are a bit overfitting. Since the model is overfitting, causing the accuracy score for testing data is a little lower than the accuracy socre for training data. And as you can see, the F1 score has a drop on testing data for each model.**"
      ],
      "metadata": {}
    },
    {
      "cell_type": "markdown",
      "source": [
        "8. (d) In the hypothesis that a separate validation set is not available, how would you proceed in evaluating a model? Refer to the evaluation techniques seen in the lectures."
      ],
      "metadata": {}
    },
    {
      "cell_type": "markdown",
      "source": [
        "<font color='blue'>\n",
        "Explanation:\n",
        "\n**Cross-validation Techniques**"
      ],
      "metadata": {}
    },
    {
      "cell_type": "code",
      "source": [],
      "outputs": [],
      "execution_count": null,
      "metadata": {}
    }
  ],
  "metadata": {
    "kernel_info": {
      "name": "python3"
    },
    "kernelspec": {
      "name": "python3",
      "language": "python",
      "display_name": "Python 3"
    },
    "language_info": {
      "name": "python",
      "version": "3.6.7",
      "mimetype": "text/x-python",
      "codemirror_mode": {
        "name": "ipython",
        "version": 3
      },
      "pygments_lexer": "ipython3",
      "nbconvert_exporter": "python",
      "file_extension": ".py"
    },
    "nteract": {
      "version": "0.12.3"
    },
    "toc": {
      "toc_position": {},
      "skip_h1_title": false,
      "number_sections": true,
      "title_cell": "Table of Contents",
      "toc_window_display": false,
      "base_numbering": 1,
      "toc_section_display": true,
      "title_sidebar": "Contents",
      "toc_cell": false,
      "nav_menu": {},
      "sideBar": true
    },
    "varInspector": {
      "cols": {
        "lenName": 16,
        "lenType": 16,
        "lenVar": 40
      },
      "kernels_config": {
        "python": {
          "delete_cmd_postfix": "",
          "delete_cmd_prefix": "del ",
          "library": "var_list.py",
          "varRefreshCmd": "print(var_dic_list())"
        },
        "r": {
          "delete_cmd_postfix": ") ",
          "delete_cmd_prefix": "rm(",
          "library": "var_list.r",
          "varRefreshCmd": "cat(var_dic_list()) "
        }
      },
      "types_to_exclude": [
        "module",
        "function",
        "builtin_function_or_method",
        "instance",
        "_Feature"
      ],
      "window_display": false
    }
  },
  "nbformat": 4,
  "nbformat_minor": 2
}