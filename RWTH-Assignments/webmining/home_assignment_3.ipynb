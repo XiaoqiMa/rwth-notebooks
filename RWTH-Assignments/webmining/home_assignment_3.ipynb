{
 "cells": [
  {
   "cell_type": "markdown",
   "metadata": {},
   "source": [
    "# Home assignment 3\n",
    "\n",
    "You should work on the assignement in groups of 2 participants. \n",
    "\n",
    "Upload your solution as a jupyter notebook to L2P by 17th of July 23:59h. (The deadline is strict)\n",
    "\n",
    "Do not forget to specify the names of all contributing students in the jupyter notebook.\n",
    "\n",
    "You should add comments to your code where necessary and print the relevant results."
   ]
  },
  {
   "cell_type": "markdown",
   "metadata": {},
   "source": [
    "#### Students: Xiaoqi Ma (383420), Anna Wegmann (330509)"
   ]
  },
  {
   "cell_type": "markdown",
   "metadata": {},
   "source": [
    "# Network representation\n",
    "Given a network obtain representations for the nodes in the jazz network (you can download it from 'http://konect.uni-koblenz.de/networks/arenas-jazz'). The representations are to be obtained the following way. \n",
    "\n",
    "1. Let $Z_u$ and $Z_v$ are the representations of nodes $u$ and $v$. At each step of stochastic gradient descent (SGD) you should randomly select a pair of nodes and minimize the loss function - \n",
    "\n",
    "   $(Z_u^T Z_v - A_{u,v})^2$\n",
    "   \n",
    "2. Obtain another representation of the nodes in the network using the same procedure as in 1 but this time with the loss function as - \n",
    "\n",
    "   $(Z_u^T Z_v - A_{u,v})^2 + (Z_u^T Z_v - A_{u,v}^2)^2$\n",
    "   \n",
    "3. From these two representations obtain the 5-nearest neighbors of node '0'. The distance between two nodes can be measured as the euclidean distance between the representations of the two nodes.\n",
    "\n",
    "\n",
    "  \n",
    "Hints: Calculate the gradient for the loss function and update the representaion vectors using SGD. You can keep the learning rate as 0.001 and the number of iterations as 5000"
   ]
  },
  {
   "cell_type": "code",
   "execution_count": 49,
   "metadata": {},
   "outputs": [],
   "source": [
    "# constants given by the task description\n",
    "alpha = 0.001\n",
    "nIter = 5000\n",
    "\n",
    "#select a dimension for the representation vector (we chose it randomly)\n",
    "dim = 13"
   ]
  },
  {
   "cell_type": "code",
   "execution_count": 50,
   "metadata": {},
   "outputs": [],
   "source": [
    "'''\n",
    "    We deleted the first line in the file to be able to use the read_edgelist function! (this altered file is also uploaded)\n",
    "'''\n",
    "import networkx as nx\n",
    "G = nx.read_edgelist('out.arenas-jazz')"
   ]
  },
  {
   "cell_type": "code",
   "execution_count": 51,
   "metadata": {},
   "outputs": [],
   "source": [
    "import numpy\n",
    "from numpy import random"
   ]
  },
  {
   "cell_type": "code",
   "execution_count": 52,
   "metadata": {},
   "outputs": [],
   "source": [
    "'''\n",
    "    Assuming A in the loss function is the adjacency matrix (and not the probabilistic adjacency matrix \n",
    "                                        - but this should not make a difference if the graph edges are not weighted)\n",
    "'''\n",
    "nodes = list(G.nodes())\n",
    "A = nx.adjacency_matrix(G)"
   ]
  },
  {
   "cell_type": "code",
   "execution_count": 53,
   "metadata": {},
   "outputs": [
    {
     "data": {
      "text/plain": [
       "array([[0.21911716, 0.08270762, 0.15522897, ..., 0.1111309 , 0.28507101,\n",
       "        0.76910218],\n",
       "       [0.25524113, 0.1469989 , 0.6049717 , ..., 0.47271848, 0.87994196,\n",
       "        0.01706721],\n",
       "       [0.62659786, 0.96779089, 0.60998802, ..., 0.18619707, 0.81079549,\n",
       "        0.32899819],\n",
       "       ...,\n",
       "       [0.62206829, 0.74814537, 0.98118446, ..., 0.04814932, 0.1389422 ,\n",
       "        0.80750791],\n",
       "       [0.14230079, 0.59667203, 0.27614225, ..., 0.45329766, 0.84831743,\n",
       "        0.34037373],\n",
       "       [0.14505115, 0.05482138, 0.42995614, ..., 0.73221816, 0.56660156,\n",
       "        0.4528543 ]])"
      ]
     },
     "execution_count": 53,
     "metadata": {},
     "output_type": "execute_result"
    }
   ],
   "source": [
    "# initialize the representation between 0 and 1\n",
    "# Matrix Init of dim \n",
    "Init = numpy.random.rand(dim,len(nodes))\n",
    "Init"
   ]
  },
  {
   "cell_type": "markdown",
   "metadata": {},
   "source": [
    "### 1."
   ]
  },
  {
   "cell_type": "code",
   "execution_count": 54,
   "metadata": {},
   "outputs": [],
   "source": [
    "# loss function\n",
    "def loss(Z,A):\n",
    "    loss = 0\n",
    "    for u in range(numpy.shape(A)[0]):\n",
    "        for v in range(numpy.shape(A)[1]):\n",
    "            loss += numpy.absolute(  numpy.dot(numpy.transpose(Z[:,u]), Z[:,v])  - A[u,v] )**2\n",
    "    return loss  #/numpy.shape(A)[0]"
   ]
  },
  {
   "cell_type": "code",
   "execution_count": 55,
   "metadata": {},
   "outputs": [
    {
     "name": "stdout",
     "output_type": "stream",
     "text": [
      "current Loss:  146799.6731476512\n",
      "current Loss:  146787.75703804582\n",
      "current Loss:  146774.0183513727\n",
      "current Loss:  146749.80920943775\n"
     ]
    }
   ],
   "source": [
    "# get the representation with loss function given in 1.\n",
    "\n",
    "# use the initialized matrix\n",
    "Z_1 = Init.copy() #numpy.random.rand(dim,len(nodes))\n",
    "\n",
    "for i in range(5000):\n",
    "    # randomly select two nodes u,v with u!=v\n",
    "    index_u = random.choice(range(len(nodes)))\n",
    "    index_v = random.choice(range(len(nodes)))\n",
    "    \n",
    "    while (index_v==index_u):\n",
    "        index_v = random.choice(range(len(nodes)))\n",
    "    \n",
    "    # minimize the loss function: $(Z_u^T Z_v - A_{u,v})^2$\n",
    "    Z_u = Z_1[:,index_u]\n",
    "    Z_v = Z_1[:,index_v]\n",
    "    if (i>4995):\n",
    "        print('current Loss: ', loss(Z_1,A))\n",
    "    # subtract the gradient from (Z_u,Z_v) to update (Z_u,Z_v)\n",
    "    Z_1[:,index_u] = Z_u - alpha*numpy.dot( 2*(  numpy.dot(numpy.transpose(Z_u), Z_v)  - A[index_u,index_v] ), Z_v)\n",
    "    Z_1[:,index_v] = Z_v - alpha*numpy.dot( 2*(  numpy.dot(numpy.transpose(Z_u), Z_v)  - A[index_u,index_v] ), Z_u)\n",
    "    #print(Z[:,5])"
   ]
  },
  {
   "cell_type": "markdown",
   "metadata": {},
   "source": [
    "### 2."
   ]
  },
  {
   "cell_type": "code",
   "execution_count": 57,
   "metadata": {},
   "outputs": [],
   "source": [
    "# do the same as in 1. just with the different loss function\n",
    "def loss2(Z,A):\n",
    "    loss = 0\n",
    "    for u in range(numpy.shape(A)[0]):\n",
    "        for v in range(numpy.shape(A)[1]):\n",
    "            loss += (  numpy.dot(numpy.transpose(Z[:,u]), Z[:,v])  - A[u,v] )**2 + (  numpy.dot(numpy.transpose(Z[:,u]), Z[:,v])  - A[u,v]**2 )**2\n",
    "    return loss"
   ]
  },
  {
   "cell_type": "code",
   "execution_count": 58,
   "metadata": {},
   "outputs": [
    {
     "name": "stdout",
     "output_type": "stream",
     "text": [
      "current Loss:  156720.65690572115  in comparison to loss1:  78360.32845286057\n",
      "current Loss:  156705.73826729527  in comparison to loss1:  78352.86913364763\n",
      "current Loss:  156668.84679350207  in comparison to loss1:  78334.42339675104\n",
      "current Loss:  156610.4632986081  in comparison to loss1:  78305.23164930406\n"
     ]
    }
   ],
   "source": [
    "# get the representations with loss function given in 2.\n",
    "\n",
    "# use the initialized matrix\n",
    "Z_2 = Init.copy()\n",
    "\n",
    "for i in range(5000):\n",
    "    # randomly select two nodes u,v with u!=v\n",
    "    index_u = random.choice(range(len(nodes)))\n",
    "    index_v = random.choice(range(len(nodes)))\n",
    "    while (index_v==index_u):\n",
    "        index_v = random.choice(range(len(nodes)))    \n",
    "    \n",
    "    # minimize the loss function: $(Z_u^T Z_v - A_{u,v})^2 + (Z_u^T Z_v - A_{u,v}^2)^2$\n",
    "    Z_u = Z_2[:,index_u]\n",
    "    Z_v = Z_2[:,index_v]\n",
    "    if (i>4995):\n",
    "        print('current Loss: ', loss2(Z_2,A), ' in comparison to loss1: ', loss(Z_2,A))\n",
    "    # subtract the gradient from (Z_u,Z_v) to update (Z_u,Z_v)\n",
    "    Z_2[:,index_u] = Z_u - alpha*numpy.dot( 2*(  numpy.dot( 2*numpy.transpose(Z_u), Z_v)  - A[index_u,index_v] - A[index_u,index_v]**2 ), Z_v)\n",
    "    Z_2[:,index_v] = Z_v - alpha*numpy.dot( 2*(  numpy.dot( 2*numpy.transpose(Z_u), Z_v)  - A[index_u,index_v] - A[index_u,index_v]**2 ), Z_u)\n",
    "    #print(Z[:,5])"
   ]
  },
  {
   "cell_type": "markdown",
   "metadata": {},
   "source": [
    "### 3."
   ]
  },
  {
   "cell_type": "code",
   "execution_count": 59,
   "metadata": {},
   "outputs": [
    {
     "data": {
      "text/plain": [
       "'1'"
      ]
     },
     "execution_count": 59,
     "metadata": {},
     "output_type": "execute_result"
    }
   ],
   "source": [
    "# 3. From these two representations obtain the 5-nearest neighbors of node '0'.\n",
    "'''\n",
    "There is no node '0' (as can be seen in the edgelist file), using the node '1' instead!\n",
    "node '1' has index 0 in the nodes-list\n",
    "'''\n",
    "nodes[0]"
   ]
  },
  {
   "cell_type": "code",
   "execution_count": 60,
   "metadata": {},
   "outputs": [],
   "source": [
    "# https://stackoverflow.com/questions/1401712/how-can-the-euclidean-distance-be-calculated-with-numpy\n",
    "def distance(a,b):\n",
    "    return numpy.linalg.norm(a-b)"
   ]
  },
  {
   "cell_type": "code",
   "execution_count": 61,
   "metadata": {},
   "outputs": [
    {
     "name": "stdout",
     "output_type": "stream",
     "text": [
      "closeness rank  0  is node  1  with distance  0.0\n",
      "closeness rank  1  is node  170  with distance  0.8037621350145394\n",
      "closeness rank  2  is node  47  with distance  0.8305363302669926\n",
      "closeness rank  3  is node  163  with distance  0.9124844424841013\n",
      "closeness rank  4  is node  141  with distance  0.9983593954402391\n",
      "closeness rank  5  is node  15  with distance  1.009244024118553\n"
     ]
    }
   ],
   "source": [
    "''' \n",
    "    Obtain the five nearest neigbors to node '1' in representation 1\n",
    "'''\n",
    "Z_0 = Z_1[:,0] \n",
    "\n",
    "# https://stackoverflow.com/questions/36885418/sort-symmetric-numpy-2d-array-by-function-norm\n",
    "# https://stackoverflow.com/questions/26333005/numpy-subtract-every-row-of-matrix-by-vector\n",
    "indexlist = numpy.argsort(numpy.linalg.norm(numpy.transpose(numpy.transpose(Z_1)-Z_0),axis=0))\n",
    "\n",
    "for i in range(6):\n",
    "    print('closeness rank ', i, ' is node ', nodes[indexlist[i]], ' with distance ', distance(Z_0, Z_1[:,indexlist[i] ]) )"
   ]
  },
  {
   "cell_type": "code",
   "execution_count": 62,
   "metadata": {},
   "outputs": [
    {
     "name": "stdout",
     "output_type": "stream",
     "text": [
      "closeness rank  0  is node  1  with distance  0.0\n",
      "closeness rank  1  is node  47  with distance  0.7912126860652018\n",
      "closeness rank  2  is node  170  with distance  0.8466591579492582\n",
      "closeness rank  3  is node  163  with distance  0.9345378874652982\n",
      "closeness rank  4  is node  194  with distance  0.9581871481941598\n",
      "closeness rank  5  is node  42  with distance  0.9832523631761682\n"
     ]
    }
   ],
   "source": [
    "''' \n",
    "    Obtain the five nearest neigbors to node '1' in representation 2\n",
    "'''\n",
    "Z_0 = Z_2[:,0] \n",
    "\n",
    "# https://stackoverflow.com/questions/36885418/sort-symmetric-numpy-2d-array-by-function-norm\n",
    "# https://stackoverflow.com/questions/26333005/numpy-subtract-every-row-of-matrix-by-vector\n",
    "indexlist = numpy.argsort(numpy.linalg.norm(numpy.transpose(numpy.transpose(Z_2)-Z_0),axis=0))\n",
    "\n",
    "for i in range(6):\n",
    "    print('closeness rank ', i, ' is node ', nodes[indexlist[i]], ' with distance ', distance(Z_0, Z_2[:,indexlist[i] ]) )"
   ]
  },
  {
   "cell_type": "code",
   "execution_count": null,
   "metadata": {},
   "outputs": [],
   "source": []
  }
 ],
 "metadata": {
  "kernel_info": {
   "name": "python3"
  },
  "kernelspec": {
   "display_name": "Python 3",
   "language": "python",
   "name": "python3"
  },
  "language_info": {
   "codemirror_mode": {
    "name": "ipython",
    "version": 3
   },
   "file_extension": ".py",
   "mimetype": "text/x-python",
   "name": "python",
   "nbconvert_exporter": "python",
   "pygments_lexer": "ipython3",
   "version": "3.6.4"
  },
  "nteract": {
   "version": "0.9.1"
  }
 },
 "nbformat": 4,
 "nbformat_minor": 2
}
